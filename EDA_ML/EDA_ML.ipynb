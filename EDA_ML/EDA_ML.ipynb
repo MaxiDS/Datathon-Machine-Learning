{
 "cells": [
  {
   "attachments": {},
   "cell_type": "markdown",
   "metadata": {},
   "source": [
    "Importamos librerias:"
   ]
  },
  {
   "cell_type": "code",
   "execution_count": 1,
   "metadata": {},
   "outputs": [],
   "source": [
    "import pandas as pd \n",
    "import numpy as np \n",
    "import matplotlib.pyplot as plt \n",
    "%matplotlib inline\n",
    "import seaborn as sns"
   ]
  },
  {
   "cell_type": "code",
   "execution_count": 2,
   "metadata": {},
   "outputs": [],
   "source": [
    "#cargamos el csv\n",
    "df_hosp = pd.read_csv(\"dataset/hospitalizaciones_train.csv\")"
   ]
  },
  {
   "cell_type": "code",
   "execution_count": 43,
   "metadata": {},
   "outputs": [
    {
     "data": {
      "text/html": [
       "<div>\n",
       "<style scoped>\n",
       "    .dataframe tbody tr th:only-of-type {\n",
       "        vertical-align: middle;\n",
       "    }\n",
       "\n",
       "    .dataframe tbody tr th {\n",
       "        vertical-align: top;\n",
       "    }\n",
       "\n",
       "    .dataframe thead th {\n",
       "        text-align: right;\n",
       "    }\n",
       "</style>\n",
       "<table border=\"1\" class=\"dataframe\">\n",
       "  <thead>\n",
       "    <tr style=\"text-align: right;\">\n",
       "      <th></th>\n",
       "      <th>Available Extra Rooms in Hospital</th>\n",
       "      <th>Department</th>\n",
       "      <th>Ward_Facility_Code</th>\n",
       "      <th>doctor_name</th>\n",
       "      <th>staff_available</th>\n",
       "      <th>patientid</th>\n",
       "      <th>Age</th>\n",
       "      <th>gender</th>\n",
       "      <th>Type of Admission</th>\n",
       "      <th>Severity of Illness</th>\n",
       "      <th>health_conditions</th>\n",
       "      <th>Visitors with Patient</th>\n",
       "      <th>Insurance</th>\n",
       "      <th>Admission_Deposit</th>\n",
       "      <th>Stay (in days)</th>\n",
       "    </tr>\n",
       "  </thead>\n",
       "  <tbody>\n",
       "    <tr>\n",
       "      <th>0</th>\n",
       "      <td>4</td>\n",
       "      <td>gynecology</td>\n",
       "      <td>D</td>\n",
       "      <td>Dr Sophia</td>\n",
       "      <td>0</td>\n",
       "      <td>33070</td>\n",
       "      <td>41-50</td>\n",
       "      <td>Female</td>\n",
       "      <td>Trauma</td>\n",
       "      <td>Extreme</td>\n",
       "      <td>Diabetes</td>\n",
       "      <td>4</td>\n",
       "      <td>Yes</td>\n",
       "      <td>2966.408696</td>\n",
       "      <td>8</td>\n",
       "    </tr>\n",
       "  </tbody>\n",
       "</table>\n",
       "</div>"
      ],
      "text/plain": [
       "   Available Extra Rooms in Hospital  Department Ward_Facility_Code  \\\n",
       "0                                  4  gynecology                  D   \n",
       "\n",
       "  doctor_name  staff_available  patientid    Age  gender Type of Admission  \\\n",
       "0   Dr Sophia                0      33070  41-50  Female            Trauma   \n",
       "\n",
       "  Severity of Illness health_conditions  Visitors with Patient Insurance  \\\n",
       "0             Extreme          Diabetes                      4       Yes   \n",
       "\n",
       "   Admission_Deposit  Stay (in days)  \n",
       "0        2966.408696               8  "
      ]
     },
     "execution_count": 43,
     "metadata": {},
     "output_type": "execute_result"
    }
   ],
   "source": [
    "df_hosp.head(1)"
   ]
  },
  {
   "attachments": {},
   "cell_type": "markdown",
   "metadata": {},
   "source": [
    "Comenzamos a analizar:  \n",
    "\n",
    "**Available Extra Rooms in Hospital:** Habitaciones adicionales disponibles en el hospital. Una habitación no es igual a un paciente, pueden ser individuales o compartidas.  \n",
    "\n",
    "**Department:** Área de atención a la que ingresa el paciente.  \n",
    "\n",
    "**Ward_Facility_Code:** Código de la habitación del paciente.  \n",
    "\n",
    "**doctor_name:** Nombre de el/la doctor/a a cargo del paciente.  \n",
    "\n",
    "**staff_available:** Cantidad de personal disponible al momento del ingreso del paciente.  \n",
    "\n",
    "**patientid:** Identificador del paciente.  \n",
    "\n",
    "**Age:** Edad del paciente.  \n",
    "\n",
    "**gender:** Género del paciente.  \n",
    "\n",
    "**Type of Admission:** Tipo de ingreso registrado según la situación de ingreso del paciente.  \n",
    "\n",
    "**Severity of Illness:** Gravedad de la enfermedad/condición/estado del paciente al momento del ingreso.  \n",
    "\n",
    "**health_conditions:** Condiciones de salud del paciente.  \n",
    "\n",
    "**Visitors with Patient:** Cantidad de visitantes registrados para el paciente.  \n",
    "\n",
    "**Insurance:** Indica si la persona posee o no seguro de salud.  \n",
    "\n",
    "**Admission_Deposit:** Pago realizado a nombre del paciente, con el fin de cubrir los costos iniciales de internación.  \n",
    "\n",
    "**Stay (in days):** Días registrados de estancia hospitalaria.   "
   ]
  },
  {
   "attachments": {},
   "cell_type": "markdown",
   "metadata": {},
   "source": [
    "#### EDA "
   ]
  },
  {
   "cell_type": "code",
   "execution_count": 3,
   "metadata": {},
   "outputs": [
    {
     "data": {
      "text/plain": [
       "Available Extra Rooms in Hospital    0\n",
       "Department                           0\n",
       "Ward_Facility_Code                   0\n",
       "doctor_name                          0\n",
       "staff_available                      0\n",
       "patientid                            0\n",
       "Age                                  0\n",
       "gender                               0\n",
       "Type of Admission                    0\n",
       "Severity of Illness                  0\n",
       "health_conditions                    0\n",
       "Visitors with Patient                0\n",
       "Insurance                            0\n",
       "Admission_Deposit                    0\n",
       "Stay (in days)                       0\n",
       "dtype: int64"
      ]
     },
     "execution_count": 3,
     "metadata": {},
     "output_type": "execute_result"
    }
   ],
   "source": [
    "#miramos nulos\n",
    "df_hosp.isnull().sum()"
   ]
  },
  {
   "cell_type": "code",
   "execution_count": 10,
   "metadata": {},
   "outputs": [
    {
     "data": {
      "text/html": [
       "<div>\n",
       "<style scoped>\n",
       "    .dataframe tbody tr th:only-of-type {\n",
       "        vertical-align: middle;\n",
       "    }\n",
       "\n",
       "    .dataframe tbody tr th {\n",
       "        vertical-align: top;\n",
       "    }\n",
       "\n",
       "    .dataframe thead th {\n",
       "        text-align: right;\n",
       "    }\n",
       "</style>\n",
       "<table border=\"1\" class=\"dataframe\">\n",
       "  <thead>\n",
       "    <tr style=\"text-align: right;\">\n",
       "      <th></th>\n",
       "      <th>Available Extra Rooms in Hospital</th>\n",
       "      <th>Department</th>\n",
       "      <th>Ward_Facility_Code</th>\n",
       "      <th>doctor_name</th>\n",
       "      <th>staff_available</th>\n",
       "      <th>patientid</th>\n",
       "      <th>Age</th>\n",
       "      <th>gender</th>\n",
       "      <th>Type of Admission</th>\n",
       "      <th>Severity of Illness</th>\n",
       "      <th>health_conditions</th>\n",
       "      <th>Visitors with Patient</th>\n",
       "      <th>Insurance</th>\n",
       "      <th>Admission_Deposit</th>\n",
       "      <th>Stay (in days)</th>\n",
       "    </tr>\n",
       "  </thead>\n",
       "  <tbody>\n",
       "  </tbody>\n",
       "</table>\n",
       "</div>"
      ],
      "text/plain": [
       "Empty DataFrame\n",
       "Columns: [Available Extra Rooms in Hospital, Department, Ward_Facility_Code, doctor_name, staff_available, patientid, Age, gender, Type of Admission, Severity of Illness, health_conditions, Visitors with Patient, Insurance, Admission_Deposit, Stay (in days)]\n",
       "Index: []"
      ]
     },
     "execution_count": 10,
     "metadata": {},
     "output_type": "execute_result"
    }
   ],
   "source": [
    "#miramos duplicados\n",
    "masc = (df_hosp.duplicated() == True)\n",
    "\n",
    "df_hosp[masc]\n"
   ]
  },
  {
   "cell_type": "code",
   "execution_count": 11,
   "metadata": {},
   "outputs": [
    {
     "name": "stdout",
     "output_type": "stream",
     "text": [
      "<class 'pandas.core.frame.DataFrame'>\n",
      "RangeIndex: 410000 entries, 0 to 409999\n",
      "Data columns (total 15 columns):\n",
      " #   Column                             Non-Null Count   Dtype  \n",
      "---  ------                             --------------   -----  \n",
      " 0   Available Extra Rooms in Hospital  410000 non-null  int64  \n",
      " 1   Department                         410000 non-null  object \n",
      " 2   Ward_Facility_Code                 410000 non-null  object \n",
      " 3   doctor_name                        410000 non-null  object \n",
      " 4   staff_available                    410000 non-null  int64  \n",
      " 5   patientid                          410000 non-null  int64  \n",
      " 6   Age                                410000 non-null  object \n",
      " 7   gender                             410000 non-null  object \n",
      " 8   Type of Admission                  410000 non-null  object \n",
      " 9   Severity of Illness                410000 non-null  object \n",
      " 10  health_conditions                  410000 non-null  object \n",
      " 11  Visitors with Patient              410000 non-null  int64  \n",
      " 12  Insurance                          410000 non-null  object \n",
      " 13  Admission_Deposit                  410000 non-null  float64\n",
      " 14  Stay (in days)                     410000 non-null  int64  \n",
      "dtypes: float64(1), int64(5), object(9)\n",
      "memory usage: 46.9+ MB\n"
     ]
    }
   ],
   "source": [
    "#vemos el tipo de cada columna\n",
    "df_hosp.info()"
   ]
  },
  {
   "cell_type": "code",
   "execution_count": 3,
   "metadata": {},
   "outputs": [],
   "source": [
    "#pasamos la columna de dias a mayor a 8 dias =1 o ,menor a 8 dias = 0 \n",
    "df_hosp[\"pred\"] = df_hosp[\"Stay (in days)\"].apply(lambda x: 1 if x > 8 else 0)"
   ]
  },
  {
   "cell_type": "code",
   "execution_count": 4,
   "metadata": {},
   "outputs": [],
   "source": [
    "#dropeamos la columna \"Stay (in days)\" ya que es redundante.\n",
    "df_hosp = df_hosp.drop([\"Stay (in days)\"],axis=1)"
   ]
  },
  {
   "attachments": {},
   "cell_type": "markdown",
   "metadata": {},
   "source": [
    "EDA VARIABLES CATEGÓRICAS"
   ]
  },
  {
   "cell_type": "code",
   "execution_count": 28,
   "metadata": {},
   "outputs": [
    {
     "data": {
      "image/png": "[encoded data removed]",
      "text/plain": [
       "<Figure size 1600x3000 with 10 Axes>"
      ]
     },
     "metadata": {},
     "output_type": "display_data"
    }
   ],
   "source": [
    "def graficos_eda_categoricos(cat):\n",
    "    \n",
    "    #Calculamos el número de filas que necesitamos\n",
    "    from math import ceil\n",
    "    filas = ceil(cat.shape[1] / 2)\n",
    "\n",
    "    #Definimos el gráfico\n",
    "    f, ax = plt.subplots(nrows = filas, ncols = 2, figsize = (16, filas * 6))\n",
    "\n",
    "    #Aplanamos para iterar por el gráfico como si fuera de 1 dimensión en lugar de 2\n",
    "    ax = ax.flat \n",
    "\n",
    "    #Creamos el bucle que va añadiendo gráficos\n",
    "    for cada, variable in enumerate(cat):\n",
    "        cat[variable].value_counts().plot.barh(ax = ax[cada])\n",
    "        ax[cada].set_title(variable, fontsize = 12, fontweight = \"bold\")\n",
    "        ax[cada].tick_params(labelsize = 12)\n",
    "        \n",
    "        \n",
    "graficos_eda_categoricos(df_hosp.select_dtypes('O'))"
   ]
  },
  {
   "attachments": {},
   "cell_type": "markdown",
   "metadata": {},
   "source": [
    "Conclusiones:\n",
    "\n",
    "* Health_conditions ---> la categoria con mayor numero es \"None\", damos por entendido que esto no se refiere a datos nulos, sino a pacientes que no tienen una enfermedad previa  \n"
   ]
  },
  {
   "attachments": {},
   "cell_type": "markdown",
   "metadata": {},
   "source": [
    "EDA VARIABLES NUMÉRICAS"
   ]
  },
  {
   "cell_type": "code",
   "execution_count": 29,
   "metadata": {},
   "outputs": [
    {
     "data": {
      "text/html": [
       "<div>\n",
       "<style scoped>\n",
       "    .dataframe tbody tr th:only-of-type {\n",
       "        vertical-align: middle;\n",
       "    }\n",
       "\n",
       "    .dataframe tbody tr th {\n",
       "        vertical-align: top;\n",
       "    }\n",
       "\n",
       "    .dataframe thead th {\n",
       "        text-align: right;\n",
       "    }\n",
       "</style>\n",
       "<table border=\"1\" class=\"dataframe\">\n",
       "  <thead>\n",
       "    <tr style=\"text-align: right;\">\n",
       "      <th></th>\n",
       "      <th>count</th>\n",
       "      <th>mean</th>\n",
       "      <th>median</th>\n",
       "      <th>std</th>\n",
       "      <th>min</th>\n",
       "      <th>25%</th>\n",
       "      <th>50%</th>\n",
       "      <th>75%</th>\n",
       "      <th>max</th>\n",
       "    </tr>\n",
       "  </thead>\n",
       "  <tbody>\n",
       "    <tr>\n",
       "      <th>Available Extra Rooms in Hospital</th>\n",
       "      <td>410000.0</td>\n",
       "      <td>3.639376</td>\n",
       "      <td>3.000000</td>\n",
       "      <td>2.701702</td>\n",
       "      <td>0.000000</td>\n",
       "      <td>2.000000</td>\n",
       "      <td>3.000000</td>\n",
       "      <td>4.00000</td>\n",
       "      <td>24.00000</td>\n",
       "    </tr>\n",
       "    <tr>\n",
       "      <th>staff_available</th>\n",
       "      <td>410000.0</td>\n",
       "      <td>5.020946</td>\n",
       "      <td>5.000000</td>\n",
       "      <td>3.158018</td>\n",
       "      <td>0.000000</td>\n",
       "      <td>2.000000</td>\n",
       "      <td>5.000000</td>\n",
       "      <td>8.00000</td>\n",
       "      <td>10.00000</td>\n",
       "    </tr>\n",
       "    <tr>\n",
       "      <th>patientid</th>\n",
       "      <td>410000.0</td>\n",
       "      <td>63095.940020</td>\n",
       "      <td>57736.000000</td>\n",
       "      <td>41686.175937</td>\n",
       "      <td>-3146.000000</td>\n",
       "      <td>25405.000000</td>\n",
       "      <td>57736.000000</td>\n",
       "      <td>103278.25000</td>\n",
       "      <td>134400.00000</td>\n",
       "    </tr>\n",
       "    <tr>\n",
       "      <th>Visitors with Patient</th>\n",
       "      <td>410000.0</td>\n",
       "      <td>3.552520</td>\n",
       "      <td>3.000000</td>\n",
       "      <td>2.247459</td>\n",
       "      <td>0.000000</td>\n",
       "      <td>2.000000</td>\n",
       "      <td>3.000000</td>\n",
       "      <td>4.00000</td>\n",
       "      <td>32.00000</td>\n",
       "    </tr>\n",
       "    <tr>\n",
       "      <th>Admission_Deposit</th>\n",
       "      <td>410000.0</td>\n",
       "      <td>4723.419239</td>\n",
       "      <td>4627.488745</td>\n",
       "      <td>1047.420292</td>\n",
       "      <td>1654.005148</td>\n",
       "      <td>4072.638351</td>\n",
       "      <td>4627.488745</td>\n",
       "      <td>5092.34943</td>\n",
       "      <td>10104.72639</td>\n",
       "    </tr>\n",
       "    <tr>\n",
       "      <th>pred</th>\n",
       "      <td>410000.0</td>\n",
       "      <td>0.622966</td>\n",
       "      <td>1.000000</td>\n",
       "      <td>0.484644</td>\n",
       "      <td>0.000000</td>\n",
       "      <td>0.000000</td>\n",
       "      <td>1.000000</td>\n",
       "      <td>1.00000</td>\n",
       "      <td>1.00000</td>\n",
       "    </tr>\n",
       "  </tbody>\n",
       "</table>\n",
       "</div>"
      ],
      "text/plain": [
       "                                      count          mean        median  \\\n",
       "Available Extra Rooms in Hospital  410000.0      3.639376      3.000000   \n",
       "staff_available                    410000.0      5.020946      5.000000   \n",
       "patientid                          410000.0  63095.940020  57736.000000   \n",
       "Visitors with Patient              410000.0      3.552520      3.000000   \n",
       "Admission_Deposit                  410000.0   4723.419239   4627.488745   \n",
       "pred                               410000.0      0.622966      1.000000   \n",
       "\n",
       "                                            std          min           25%  \\\n",
       "Available Extra Rooms in Hospital      2.701702     0.000000      2.000000   \n",
       "staff_available                        3.158018     0.000000      2.000000   \n",
       "patientid                          41686.175937 -3146.000000  25405.000000   \n",
       "Visitors with Patient                  2.247459     0.000000      2.000000   \n",
       "Admission_Deposit                   1047.420292  1654.005148   4072.638351   \n",
       "pred                                   0.484644     0.000000      0.000000   \n",
       "\n",
       "                                            50%           75%           max  \n",
       "Available Extra Rooms in Hospital      3.000000       4.00000      24.00000  \n",
       "staff_available                        5.000000       8.00000      10.00000  \n",
       "patientid                          57736.000000  103278.25000  134400.00000  \n",
       "Visitors with Patient                  3.000000       4.00000      32.00000  \n",
       "Admission_Deposit                   4627.488745    5092.34943   10104.72639  \n",
       "pred                                   1.000000       1.00000       1.00000  "
      ]
     },
     "execution_count": 29,
     "metadata": {},
     "output_type": "execute_result"
    }
   ],
   "source": [
    "def estadisticos_cont(num):\n",
    "    #Calculamos describe\n",
    "    estadisticos = num.describe().T\n",
    "    #Añadimos la mediana\n",
    "    estadisticos['median'] = num.median()\n",
    "    #Reordenamos para que la mediana esté al lado de la media\n",
    "    estadisticos = estadisticos.iloc[:,[0,1,8,2,3,4,5,6,7]]\n",
    "    #Lo devolvemos\n",
    "    return(estadisticos)\n",
    "\n",
    "\n",
    "estadisticos_cont(df_hosp.select_dtypes('number'))"
   ]
  },
  {
   "attachments": {},
   "cell_type": "markdown",
   "metadata": {},
   "source": [
    "Conclusiones:  \n",
    "\n",
    "* No se encontro ninguna columna con solo 1 valor.  \n",
    "* Se va a eliminar \"patientid\" por ser un valor ID que puede ocacionar problemas en nuestro modelo"
   ]
  },
  {
   "cell_type": "code",
   "execution_count": 32,
   "metadata": {},
   "outputs": [
    {
     "data": {
      "image/png": "[encoded data removed]",
      "text/plain": [
       "<Figure size 640x480 with 1 Axes>"
      ]
     },
     "metadata": {},
     "output_type": "display_data"
    }
   ],
   "source": [
    "# Analisis por Insurance\n",
    "temp = df_hosp.groupby('Insurance').pred.mean().sort_values(ascending = False) * 100\n",
    "temp.plot.bar();"
   ]
  },
  {
   "cell_type": "code",
   "execution_count": 33,
   "metadata": {},
   "outputs": [
    {
     "data": {
      "text/plain": [
       "Index(['Available Extra Rooms in Hospital', 'Department', 'Ward_Facility_Code',\n",
       "       'doctor_name', 'staff_available', 'patientid', 'Age', 'gender',\n",
       "       'Type of Admission', 'Severity of Illness', 'health_conditions',\n",
       "       'Visitors with Patient', 'Insurance', 'Admission_Deposit', 'pred'],\n",
       "      dtype='object')"
      ]
     },
     "execution_count": 33,
     "metadata": {},
     "output_type": "execute_result"
    }
   ],
   "source": [
    "df_hosp.columns"
   ]
  },
  {
   "attachments": {},
   "cell_type": "markdown",
   "metadata": {},
   "source": [
    "Control de correlacion de las columnas con respecto a \"pred\"  \n",
    "\n",
    "Para calcular la correlación entre datos numéricos y categóricos en Python, puedes usar la función pandas.crosstab() junto con la función scipy.stats.chi2_contingency(). Primero, crea una tabla de contingencia usando la función pandas.crosstab() y luego calcula la correlación entre las variables utilizando scipy.stats.chi2_contingency()"
   ]
  },
  {
   "attachments": {},
   "cell_type": "markdown",
   "metadata": {},
   "source": [
    "La función stats.chi2_contingency() devuelve una tupla de cuatro valores. Los dos primeros valores son el valor del estadístico chi-cuadrado y el p-valor correspondiente. El tercer valor es el número de grados de libertad asociados con el estadístico chi-cuadrado. El cuarto valor es una matriz de contingencia que contiene los valores observados en la tabla de contingencia.  \n",
    "\n",
    "En mi caso usare P para ver la relacion entre columnas"
   ]
  },
  {
   "cell_type": "code",
   "execution_count": 1,
   "metadata": {},
   "outputs": [],
   "source": [
    "#traemos la libreria scipy\n",
    "from scipy import stats"
   ]
  },
  {
   "cell_type": "code",
   "execution_count": 9,
   "metadata": {},
   "outputs": [
    {
     "name": "stdout",
     "output_type": "stream",
     "text": [
      "0.0\n"
     ]
    }
   ],
   "source": [
    "# Crea una tabla de contingencia\n",
    "cor= pd.crosstab(df_hosp[\"pred\"], df_hosp[\"Available Extra Rooms in Hospital\"])\n",
    "# Calcula la correlación entre las variables\n",
    "chi2, p, dof, expected = stats.chi2_contingency(cor)\n",
    "print(p)"
   ]
  },
  {
   "cell_type": "code",
   "execution_count": 10,
   "metadata": {},
   "outputs": [
    {
     "name": "stdout",
     "output_type": "stream",
     "text": [
      "0.0\n"
     ]
    }
   ],
   "source": [
    "# Crea una tabla de contingencia\n",
    "cor= pd.crosstab(df_hosp[\"pred\"], df_hosp[\"Department\"])\n",
    "# Calcula la correlación entre las variables\n",
    "chi2, p, dof, expected = stats.chi2_contingency(cor)\n",
    "print(p)"
   ]
  },
  {
   "cell_type": "code",
   "execution_count": 11,
   "metadata": {},
   "outputs": [
    {
     "name": "stdout",
     "output_type": "stream",
     "text": [
      "0.0\n"
     ]
    }
   ],
   "source": [
    "# Crea una tabla de contingencia\n",
    "cor= pd.crosstab(df_hosp[\"pred\"], df_hosp[\"Ward_Facility_Code\"])\n",
    "# Calcula la correlación entre las variables\n",
    "chi2, p, dof, expected = stats.chi2_contingency(cor)\n",
    "print(p)"
   ]
  },
  {
   "cell_type": "code",
   "execution_count": 12,
   "metadata": {},
   "outputs": [
    {
     "name": "stdout",
     "output_type": "stream",
     "text": [
      "0.0\n"
     ]
    }
   ],
   "source": [
    "# Crea una tabla de contingencia\n",
    "cor= pd.crosstab(df_hosp[\"pred\"], df_hosp[\"doctor_name\"])\n",
    "# Calcula la correlación entre las variables\n",
    "chi2, p, dof, expected = stats.chi2_contingency(cor)\n",
    "print(p)"
   ]
  },
  {
   "cell_type": "code",
   "execution_count": 13,
   "metadata": {},
   "outputs": [
    {
     "name": "stdout",
     "output_type": "stream",
     "text": [
      "0.027185032657605395\n"
     ]
    }
   ],
   "source": [
    "# Crea una tabla de contingencia\n",
    "cor= pd.crosstab(df_hosp[\"pred\"], df_hosp[\"staff_available\"])\n",
    "# Calcula la correlación entre las variables\n",
    "chi2, p, dof, expected = stats.chi2_contingency(cor)\n",
    "print(p)"
   ]
  },
  {
   "cell_type": "code",
   "execution_count": 14,
   "metadata": {},
   "outputs": [
    {
     "name": "stdout",
     "output_type": "stream",
     "text": [
      "0.2915705642154938\n"
     ]
    }
   ],
   "source": [
    "# Crea una tabla de contingencia\n",
    "cor= pd.crosstab(df_hosp[\"pred\"], df_hosp[\"patientid\"])\n",
    "# Calcula la correlación entre las variables\n",
    "chi2, p, dof, expected = stats.chi2_contingency(cor)\n",
    "print(p)"
   ]
  },
  {
   "cell_type": "code",
   "execution_count": 15,
   "metadata": {},
   "outputs": [
    {
     "name": "stdout",
     "output_type": "stream",
     "text": [
      "0.0\n"
     ]
    }
   ],
   "source": [
    "# Crea una tabla de contingencia\n",
    "cor= pd.crosstab(df_hosp[\"pred\"], df_hosp[\"Age\"])\n",
    "# Calcula la correlación entre las variables\n",
    "chi2, p, dof, expected = stats.chi2_contingency(cor)\n",
    "print(p)"
   ]
  },
  {
   "cell_type": "code",
   "execution_count": 16,
   "metadata": {},
   "outputs": [
    {
     "name": "stdout",
     "output_type": "stream",
     "text": [
      "0.0\n"
     ]
    }
   ],
   "source": [
    "# Crea una tabla de contingencia\n",
    "cor= pd.crosstab(df_hosp[\"pred\"], df_hosp[\"gender\"])\n",
    "# Calcula la correlación entre las variables\n",
    "chi2, p, dof, expected = stats.chi2_contingency(cor)\n",
    "print(p)"
   ]
  },
  {
   "cell_type": "code",
   "execution_count": 17,
   "metadata": {},
   "outputs": [
    {
     "name": "stdout",
     "output_type": "stream",
     "text": [
      "1.6947748596830627e-21\n"
     ]
    }
   ],
   "source": [
    "# Crea una tabla de contingencia\n",
    "cor= pd.crosstab(df_hosp[\"pred\"], df_hosp[\"Type of Admission\"])\n",
    "# Calcula la correlación entre las variables\n",
    "chi2, p, dof, expected = stats.chi2_contingency(cor)\n",
    "print(p)"
   ]
  },
  {
   "cell_type": "code",
   "execution_count": 18,
   "metadata": {},
   "outputs": [
    {
     "name": "stdout",
     "output_type": "stream",
     "text": [
      "2.8750137241379228e-130\n"
     ]
    }
   ],
   "source": [
    "# Crea una tabla de contingencia\n",
    "cor= pd.crosstab(df_hosp[\"pred\"], df_hosp[\"Severity of Illness\"])\n",
    "# Calcula la correlación entre las variables\n",
    "chi2, p, dof, expected = stats.chi2_contingency(cor)\n",
    "print(p)"
   ]
  },
  {
   "cell_type": "code",
   "execution_count": 19,
   "metadata": {},
   "outputs": [
    {
     "name": "stdout",
     "output_type": "stream",
     "text": [
      "5.658483183151773e-09\n"
     ]
    }
   ],
   "source": [
    "# Crea una tabla de contingencia\n",
    "cor= pd.crosstab(df_hosp[\"pred\"], df_hosp[\"health_conditions\"])\n",
    "# Calcula la correlación entre las variables\n",
    "chi2, p, dof, expected = stats.chi2_contingency(cor)\n",
    "print(p)"
   ]
  },
  {
   "cell_type": "code",
   "execution_count": 20,
   "metadata": {},
   "outputs": [
    {
     "name": "stdout",
     "output_type": "stream",
     "text": [
      "0.0\n"
     ]
    }
   ],
   "source": [
    "# Crea una tabla de contingencia\n",
    "cor= pd.crosstab(df_hosp[\"pred\"], df_hosp[\"Visitors with Patient\"])\n",
    "# Calcula la correlación entre las variables\n",
    "chi2, p, dof, expected = stats.chi2_contingency(cor)\n",
    "print(p)"
   ]
  },
  {
   "cell_type": "code",
   "execution_count": 21,
   "metadata": {},
   "outputs": [
    {
     "name": "stdout",
     "output_type": "stream",
     "text": [
      "0.4988221951889673\n"
     ]
    }
   ],
   "source": [
    "# Crea una tabla de contingencia\n",
    "cor= pd.crosstab(df_hosp[\"pred\"], df_hosp[\"Insurance\"])\n",
    "# Calcula la correlación entre las variables\n",
    "chi2, p, dof, expected = stats.chi2_contingency(cor)\n",
    "print(p)"
   ]
  },
  {
   "cell_type": "code",
   "execution_count": 22,
   "metadata": {},
   "outputs": [
    {
     "name": "stdout",
     "output_type": "stream",
     "text": [
      "0.49327701140734725\n"
     ]
    }
   ],
   "source": [
    "# Crea una tabla de contingencia\n",
    "cor= pd.crosstab(df_hosp[\"pred\"], df_hosp[\"Admission_Deposit\"])\n",
    "# Calcula la correlación entre las variables\n",
    "chi2, p, dof, expected = stats.chi2_contingency(cor)\n",
    "print(p)"
   ]
  },
  {
   "attachments": {},
   "cell_type": "markdown",
   "metadata": {},
   "source": [
    "#### Conclusion:  \n",
    "Luego de analizar la correlacion llegando a la conclusion de que si p es menor a 0.05 tiene una correlacion valiosa y si es mas alto de 0.5 no tienen una correlacion muy buena   \n",
    "- Se van a eliminar las siguientes columnas al no tener una buena correlacion con nuestra columna pred:    \n",
    "  - patientid  \n",
    "  - Insurance  \n",
    "- Observacion:\n",
    "  - Admission_Deposit (despues de testearlo con y sin esta columna se llego a la conclusion que no se va a eliminar ya que mejora al modelo)\n",
    " \n"
   ]
  },
  {
   "cell_type": "code",
   "execution_count": 5,
   "metadata": {},
   "outputs": [],
   "source": [
    "#creamos nuestro df con el que vamos a trabajar la parte de ML\n",
    "df_ml = df_hosp.drop([\"patientid\",\"Insurance\"], axis=1)"
   ]
  },
  {
   "attachments": {},
   "cell_type": "markdown",
   "metadata": {},
   "source": [
    "##### Normalizacion de datos\n",
    "\n",
    "`LabelEncoder`:  \n",
    " Se utiliza para codificar variables categóricas como variables numéricas de forma que cada categoría se asigna a un número entero diferente.\n"
   ]
  },
  {
   "cell_type": "code",
   "execution_count": 6,
   "metadata": {},
   "outputs": [],
   "source": [
    "#aplicamos labelencoder a las columnas Age y Severity of Illness porque despues del testeo con dummi, da mejor rendimiento de esta manera\n",
    "from sklearn import preprocessing\n",
    "le = preprocessing.LabelEncoder()\n",
    "df_ml['Age'] = le.fit_transform(df_ml['Age'])\n",
    "df_ml['Severity of Illness'] = le.fit_transform(df_ml['Severity of Illness'])"
   ]
  },
  {
   "attachments": {},
   "cell_type": "markdown",
   "metadata": {},
   "source": [
    "`OneHotEncoder`:  \n",
    " Por otro lado, se utiliza para codificar variables categóricas como variables binarias"
   ]
  },
  {
   "cell_type": "code",
   "execution_count": 7,
   "metadata": {},
   "outputs": [
    {
     "name": "stderr",
     "output_type": "stream",
     "text": [
      "c:\\Users\\maxi\\anaconda3\\lib\\site-packages\\sklearn\\utils\\deprecation.py:87: FutureWarning: Function get_feature_names is deprecated; get_feature_names is deprecated in 1.0 and will be removed in 1.2. Please use get_feature_names_out instead.\n",
      "  warnings.warn(msg, category=FutureWarning)\n"
     ]
    }
   ],
   "source": [
    "#Importamos OneHot\n",
    "from sklearn.preprocessing import OneHotEncoder\n",
    "\n",
    "encoder = OneHotEncoder(categories='auto', handle_unknown='ignore')\n",
    "#pasamos las columnas que queremos transformar\n",
    "encoded_df= encoder.fit_transform(df_ml[[\"Department\",\"Ward_Facility_Code\",\"doctor_name\",\"gender\",\"health_conditions\",\"Type of Admission\"]]).toarray()\n",
    "\n",
    "#lo convertimos en un df\n",
    "encoded_df = pd.DataFrame(encoded_df, columns=encoder.get_feature_names())"
   ]
  },
  {
   "cell_type": "code",
   "execution_count": 8,
   "metadata": {},
   "outputs": [],
   "source": [
    "#Creamos un nuevo df sin las columnas en las que aplicamos OneHot\n",
    "df_con = df_ml.drop([\"Department\",\"Ward_Facility_Code\",\"doctor_name\",\"gender\",\"health_conditions\",\"Type of Admission\"], axis=1)"
   ]
  },
  {
   "cell_type": "code",
   "execution_count": 9,
   "metadata": {},
   "outputs": [],
   "source": [
    "#Concatenamos este nuevo df con las columnas transformadas anteriormente\n",
    "df_con = pd.concat([df_con,encoded_df], axis=1)"
   ]
  },
  {
   "cell_type": "code",
   "execution_count": 21,
   "metadata": {},
   "outputs": [],
   "source": [
    "#creamos nuestras variables y, x\n",
    "X = df_con.drop(columns=\"pred\")\n",
    "y = df_con[\"pred\"]"
   ]
  },
  {
   "cell_type": "code",
   "execution_count": 22,
   "metadata": {},
   "outputs": [],
   "source": [
    "#separamos nuestros datos en entrenamiento y test\n",
    "#despues de varios testeos se llego a la conclusion que en un random_state de 32 muestra su mejor performance\n",
    "from sklearn.model_selection import train_test_split\n",
    "\n",
    "X_train, X_test, y_train, y_test = train_test_split(X,y, test_size=0.25, random_state=32)\n"
   ]
  },
  {
   "attachments": {},
   "cell_type": "markdown",
   "metadata": {},
   "source": [
    "#### PIPELINE  \n",
    "Creamos nuestros pipelines compararemos la performance de los modelos y buscaremos identificar el mejor de ellos. Una vez obtenido, lo guardamos en un archivo.  \n",
    "Observacion: no vamos a utilizar svm ya que su rendimiento no es optimo en nuestro computador."
   ]
  },
  {
   "cell_type": "code",
   "execution_count": 12,
   "metadata": {},
   "outputs": [],
   "source": [
    "# Importamos las librerías necesarias\n",
    "\n",
    "from sklearn.preprocessing import StandardScaler\n",
    "from sklearn.decomposition import PCA\n",
    "from sklearn.pipeline import Pipeline\n",
    "from sklearn.linear_model import LogisticRegression\n",
    "from sklearn import tree"
   ]
  },
  {
   "cell_type": "code",
   "execution_count": 22,
   "metadata": {},
   "outputs": [],
   "source": [
    "# Creamos el primer pipeline\n",
    "\n",
    "pipe_lr = Pipeline([('scl', StandardScaler()),\n",
    "\t\t\t('pca', PCA(n_components=2)),\n",
    "\t\t\t('clf', LogisticRegression(random_state=42))])\n",
    "\n",
    "# Creamos el segundo pipeline\n",
    "\n",
    "pipe_dt = Pipeline([('scl', StandardScaler()),\n",
    "\t\t\t('pca', PCA(n_components=2)),\n",
    "\t\t\t('clf', tree.DecisionTreeClassifier(criterion=\"entropy\",max_depth=19, random_state=42))])"
   ]
  },
  {
   "cell_type": "code",
   "execution_count": 23,
   "metadata": {},
   "outputs": [],
   "source": [
    "# Los guardamos en una lista\n",
    "\n",
    "pipelines = [pipe_lr, pipe_dt]"
   ]
  },
  {
   "cell_type": "code",
   "execution_count": 24,
   "metadata": {},
   "outputs": [],
   "source": [
    "# Hacemos un diccionario para fines organizativos\n",
    "\n",
    "pipe_dict = {0: 'Regresión Logística', 1: 'Árbol de decisión'}"
   ]
  },
  {
   "cell_type": "code",
   "execution_count": null,
   "metadata": {},
   "outputs": [],
   "source": [
    "# Entrenamos\n",
    "\n",
    "for pipe in pipelines:\n",
    "\tpipe.fit(X_train, y_train)"
   ]
  },
  {
   "cell_type": "code",
   "execution_count": 76,
   "metadata": {},
   "outputs": [
    {
     "name": "stdout",
     "output_type": "stream",
     "text": [
      "Regresión Logística pipeline accuracy en test: 0.621\n",
      "Árbol de decisión pipeline accuracy en test: 0.649\n"
     ]
    }
   ],
   "source": [
    "# Evaluamos\n",
    "\n",
    "for idx, val in enumerate(pipelines):\n",
    "\tprint('%s pipeline accuracy en test: %.3f' % (pipe_dict[idx], val.score(X_test, y_test)))"
   ]
  },
  {
   "cell_type": "code",
   "execution_count": 77,
   "metadata": {},
   "outputs": [
    {
     "name": "stdout",
     "output_type": "stream",
     "text": [
      "Modelo con el mejor accuracy: Árbol de decisión\n"
     ]
    }
   ],
   "source": [
    "# Identificamos el mejor modelo para el set de testeo\n",
    "\n",
    "best_acc = 0.0\n",
    "best_clf = 0\n",
    "best_pipe = ''\n",
    "for idx, val in enumerate(pipelines):\n",
    "\tif val.score(X_test, y_test) > best_acc:\n",
    "\t\tbest_acc = val.score(X_test, y_test)\n",
    "\t\tbest_pipe = val\n",
    "\t\tbest_clf = idx\n",
    "print('Modelo con el mejor accuracy: %s' % pipe_dict[best_clf])"
   ]
  },
  {
   "cell_type": "code",
   "execution_count": 78,
   "metadata": {},
   "outputs": [
    {
     "name": "stdout",
     "output_type": "stream",
     "text": [
      "Pipeline de Árbol de decisión guardado a archivo\n"
     ]
    }
   ],
   "source": [
    "# Guardamos el pipeline en un archivo\n",
    "\n",
    "import joblib #pickle es alternativa\n",
    "\n",
    "joblib.dump(best_pipe, 'Mejor_pipeline.pkl', compress=1)\n",
    "print('Pipeline de %s guardado a archivo' % pipe_dict[best_clf])"
   ]
  },
  {
   "attachments": {},
   "cell_type": "markdown",
   "metadata": {},
   "source": [
    "## ENTRENAMIENTO  \n",
    "\n",
    "### Se van a probar `DecisionTreeClassifier` y `RandomForest`  "
   ]
  },
  {
   "attachments": {},
   "cell_type": "markdown",
   "metadata": {},
   "source": [
    "### `DecisionTreeClassifier` \n",
    "\n",
    "Voy a utilizar el Árbol de decisión para el modelo ya que fue la recomendacion del pipeline luego de la evaluacion y es con el que mas familiarizado estoy."
   ]
  },
  {
   "attachments": {},
   "cell_type": "markdown",
   "metadata": {},
   "source": [
    "Parametros que nos arroja grid como los mejores: {'criterion': 'gini', 'max_depth': 19, 'random_state': 32, 'splitter': 'best'}  \n",
    "Parametros usados anteriormente a mi criterio: (criterion=\"entropy\",max_depth=19, random_state=42)  \n",
    "\n",
    "Esta funcion se puede encontrar al finalizar la funcion del arbol, mas abajo en el notebook"
   ]
  },
  {
   "cell_type": "code",
   "execution_count": 37,
   "metadata": {},
   "outputs": [
    {
     "data": {
      "text/plain": [
       "DecisionTreeClassifier(max_depth=19, random_state=32)"
      ]
     },
     "execution_count": 37,
     "metadata": {},
     "output_type": "execute_result"
    }
   ],
   "source": [
    "#importamos y entrenamos el arbol de decicion\n",
    "from sklearn.tree import DecisionTreeClassifier\n",
    "\n",
    "#se usa una profundidad de 19 luego de provar varias y llegar a la conclusion que es la que mejor resultados arroja.\n",
    "#se usa entropy porque lanzo un mejor recall\n",
    "arbol = DecisionTreeClassifier(criterion=\"gini\",max_depth=19, random_state=32, splitter=\"best\")\n",
    "#entrenamiento\n",
    "arbol.fit(X_train,y_train)"
   ]
  },
  {
   "cell_type": "code",
   "execution_count": 38,
   "metadata": {},
   "outputs": [],
   "source": [
    "#realizamos la prediccion\n",
    "y_pred = arbol.predict(X_test)"
   ]
  },
  {
   "cell_type": "code",
   "execution_count": 39,
   "metadata": {},
   "outputs": [
    {
     "data": {
      "text/plain": [
       "array([[26321, 12224],\n",
       "       [10844, 53111]], dtype=int64)"
      ]
     },
     "execution_count": 39,
     "metadata": {},
     "output_type": "execute_result"
    }
   ],
   "source": [
    "#usamos confusion matrix para visualizar el desempeño de un algoritmo\n",
    "#podemos observar que el modelo trabaja mucho mejor encontrando los 1 verdaderos, que los 0. \n",
    "from sklearn.metrics import confusion_matrix\n",
    "\n",
    "cm= confusion_matrix(y_test,y_pred)\n",
    "cm"
   ]
  },
  {
   "cell_type": "code",
   "execution_count": 40,
   "metadata": {},
   "outputs": [
    {
     "name": "stderr",
     "output_type": "stream",
     "text": [
      "c:\\Users\\maxi\\anaconda3\\lib\\site-packages\\sklearn\\utils\\deprecation.py:87: FutureWarning: Function plot_confusion_matrix is deprecated; Function `plot_confusion_matrix` is deprecated in 1.0 and will be removed in 1.2. Use one of the class methods: ConfusionMatrixDisplay.from_predictions or ConfusionMatrixDisplay.from_estimator.\n",
      "  warnings.warn(msg, category=FutureWarning)\n"
     ]
    },
    {
     "data": {
      "image/png": "[encoded data removed]",
      "text/plain": [
       "<Figure size 640x480 with 2 Axes>"
      ]
     },
     "metadata": {},
     "output_type": "display_data"
    }
   ],
   "source": [
    "# Importar la función plot_confusion_matrix\n",
    "from sklearn.metrics import plot_confusion_matrix\n",
    "# Graficar la matriz de confusión y mostrar el accuracy y el recall\n",
    "plot_confusion_matrix(arbol, X_train, y_train)\n",
    "plt.show()"
   ]
  },
  {
   "cell_type": "code",
   "execution_count": 41,
   "metadata": {},
   "outputs": [
    {
     "name": "stdout",
     "output_type": "stream",
     "text": [
      "accuracy:  0.7749463414634147\n",
      "Recall:  0.8304432804315535\n",
      "F1score: 0.8215793951581717\n"
     ]
    }
   ],
   "source": [
    "#verificamos las metricas de nuestro modelo\n",
    "from sklearn import metrics\n",
    "\n",
    "print(\"accuracy: \", metrics.accuracy_score(y_test,y_pred))\n",
    "print(\"Recall: \", metrics.recall_score(y_test,y_pred))\n",
    "print(\"F1score:\", metrics.f1_score(y_test,y_pred))"
   ]
  },
  {
   "attachments": {},
   "cell_type": "markdown",
   "metadata": {},
   "source": [
    "Como se puede observar el resultado dado por grid es menor en este caso, pero una vez puesto en produccion tiene mejores resultados que nuestro modelo anterior."
   ]
  },
  {
   "attachments": {},
   "cell_type": "markdown",
   "metadata": {},
   "source": [
    "**Parametros antes de usar grid:**  \n",
    " - accuracy:  0.775570731707317\n",
    " - Recall:  0.8328512235165351\n",
    " - F1score: 0.8224095604242901  \n",
    " \n",
    "**Parametros aplicando las mejoras de grid:**   \n",
    " - accuracy:  0.7749463414634147\n",
    " - Recall:  0.8304432804315535\n",
    " - F1score: 0.8215793951581717"
   ]
  },
  {
   "attachments": {},
   "cell_type": "markdown",
   "metadata": {},
   "source": [
    "Ahora utilizamos K-fold para realizar la validación cruzada y evaluar que tan bien funciona el modelo que desarrollamos:"
   ]
  },
  {
   "cell_type": "code",
   "execution_count": 51,
   "metadata": {},
   "outputs": [],
   "source": [
    "# Validación cruzada k fold\n",
    "from sklearn.model_selection import KFold\n",
    "kfold_validacion = KFold(10) # Acá indicamos cuantos fold queremos. En nuestro caso elegimos 10."
   ]
  },
  {
   "cell_type": "code",
   "execution_count": 52,
   "metadata": {},
   "outputs": [
    {
     "name": "stdout",
     "output_type": "stream",
     "text": [
      "[0.77112195 0.76868293 0.7714878  0.77712195 0.77312195 0.77595122\n",
      " 0.77639024 0.77853659 0.77468293 0.77117073]\n"
     ]
    },
    {
     "data": {
      "text/plain": [
       "0.7738268292682926"
      ]
     },
     "execution_count": 52,
     "metadata": {},
     "output_type": "execute_result"
    }
   ],
   "source": [
    "from sklearn.model_selection import cross_val_score\n",
    "\n",
    "resultados = cross_val_score(arbol, X, y, cv = kfold_validacion)\n",
    "print(resultados)\n",
    "resultados.mean() # para ver el promedio de los resultados "
   ]
  },
  {
   "attachments": {},
   "cell_type": "markdown",
   "metadata": {},
   "source": [
    "Usamos GridSearchCV para saber si podemos mejorar nuestros parametros"
   ]
  },
  {
   "cell_type": "code",
   "execution_count": 35,
   "metadata": {},
   "outputs": [
    {
     "name": "stdout",
     "output_type": "stream",
     "text": [
      "Fitting 4 folds for each of 8 candidates, totalling 32 fits\n",
      "[CV] END criterion=gini, max_depth=19, random_state=32, splitter=best; total time=   2.5s\n",
      "[CV] END criterion=gini, max_depth=19, random_state=32, splitter=best; total time=   2.7s\n",
      "[CV] END criterion=gini, max_depth=19, random_state=32, splitter=best; total time=   2.7s\n",
      "[CV] END criterion=gini, max_depth=19, random_state=32, splitter=best; total time=   2.6s\n",
      "[CV] END criterion=gini, max_depth=19, random_state=32, splitter=random; total time=   1.5s\n",
      "[CV] END criterion=gini, max_depth=19, random_state=32, splitter=random; total time=   1.5s\n",
      "[CV] END criterion=gini, max_depth=19, random_state=32, splitter=random; total time=   1.6s\n",
      "[CV] END criterion=gini, max_depth=19, random_state=32, splitter=random; total time=   1.7s\n",
      "[CV] END criterion=gini, max_depth=25, random_state=32, splitter=best; total time=   2.9s\n",
      "[CV] END criterion=gini, max_depth=25, random_state=32, splitter=best; total time=   3.0s\n",
      "[CV] END criterion=gini, max_depth=25, random_state=32, splitter=best; total time=   3.0s\n",
      "[CV] END criterion=gini, max_depth=25, random_state=32, splitter=best; total time=   3.0s\n",
      "[CV] END criterion=gini, max_depth=25, random_state=32, splitter=random; total time=   1.9s\n",
      "[CV] END criterion=gini, max_depth=25, random_state=32, splitter=random; total time=   1.8s\n",
      "[CV] END criterion=gini, max_depth=25, random_state=32, splitter=random; total time=   1.9s\n",
      "[CV] END criterion=gini, max_depth=25, random_state=32, splitter=random; total time=   1.6s\n",
      "[CV] END criterion=entropy, max_depth=19, random_state=32, splitter=best; total time=   3.1s\n",
      "[CV] END criterion=entropy, max_depth=19, random_state=32, splitter=best; total time=   3.1s\n",
      "[CV] END criterion=entropy, max_depth=19, random_state=32, splitter=best; total time=   3.2s\n",
      "[CV] END criterion=entropy, max_depth=19, random_state=32, splitter=best; total time=   2.8s\n",
      "[CV] END criterion=entropy, max_depth=19, random_state=32, splitter=random; total time=   1.6s\n",
      "[CV] END criterion=entropy, max_depth=19, random_state=32, splitter=random; total time=   1.7s\n",
      "[CV] END criterion=entropy, max_depth=19, random_state=32, splitter=random; total time=   1.8s\n",
      "[CV] END criterion=entropy, max_depth=19, random_state=32, splitter=random; total time=   1.8s\n",
      "[CV] END criterion=entropy, max_depth=25, random_state=32, splitter=best; total time=   3.6s\n",
      "[CV] END criterion=entropy, max_depth=25, random_state=32, splitter=best; total time=   3.5s\n",
      "[CV] END criterion=entropy, max_depth=25, random_state=32, splitter=best; total time=   3.6s\n",
      "[CV] END criterion=entropy, max_depth=25, random_state=32, splitter=best; total time=   3.5s\n",
      "[CV] END criterion=entropy, max_depth=25, random_state=32, splitter=random; total time=   2.0s\n",
      "[CV] END criterion=entropy, max_depth=25, random_state=32, splitter=random; total time=   2.0s\n",
      "[CV] END criterion=entropy, max_depth=25, random_state=32, splitter=random; total time=   2.0s\n",
      "[CV] END criterion=entropy, max_depth=25, random_state=32, splitter=random; total time=   2.0s\n"
     ]
    },
    {
     "data": {
      "text/plain": [
       "GridSearchCV(cv=4, estimator=DecisionTreeClassifier(),\n",
       "             param_grid={'criterion': ['gini', 'entropy'],\n",
       "                         'max_depth': [19, 25], 'random_state': [32],\n",
       "                         'splitter': ['best', 'random']},\n",
       "             verbose=2)"
      ]
     },
     "execution_count": 35,
     "metadata": {},
     "output_type": "execute_result"
    }
   ],
   "source": [
    "from sklearn.model_selection import GridSearchCV\n",
    "\n",
    "\n",
    "# Definir los parametros de Grid\n",
    "param_grid = {'criterion': ['gini', 'entropy'],\n",
    "              'max_depth': [19, 25],\n",
    "              'random_state': [32],\n",
    "              'splitter': ['best', 'random']}\n",
    "\n",
    "# Create a GridSearchCV object and fit it to the training data\n",
    "tree = DecisionTreeClassifier()\n",
    "grid_search = GridSearchCV(tree, param_grid, cv=4, verbose=2)\n",
    "grid_search.fit(X_train, y_train)"
   ]
  },
  {
   "cell_type": "code",
   "execution_count": 36,
   "metadata": {},
   "outputs": [
    {
     "data": {
      "text/plain": [
       "{'criterion': 'gini', 'max_depth': 19, 'random_state': 32, 'splitter': 'best'}"
      ]
     },
     "execution_count": 36,
     "metadata": {},
     "output_type": "execute_result"
    }
   ],
   "source": [
    "#Mejor parametro\n",
    "grid_search.best_params_"
   ]
  },
  {
   "attachments": {},
   "cell_type": "markdown",
   "metadata": {},
   "source": [
    "#### Conclusion:  \n",
    "- Actualizacion: dejando la columna \"Admission_Deposit\" y cambiando la columna \"Age\" y 'Severity of Illness' con Labelencoder el acc aumento un 6% aproximadamente, bajando un 6% el recall y aumentando el F1 score en un 3%, pero quedando mas balanceado.  \n",
    "Dejando como resultado : `accuracy:77%, Recall: 83% y F1score: 82%`   \n",
    "Estos resultados fueron mejorados nuevamente usando Grid que nos arrojo mejores resultados en produccion."
   ]
  },
  {
   "attachments": {},
   "cell_type": "markdown",
   "metadata": {},
   "source": [
    "#### Importancia de las variables"
   ]
  },
  {
   "attachments": {},
   "cell_type": "markdown",
   "metadata": {},
   "source": [
    "Podemos ver que variables fueron las mas importantes en nuestro modelo de Arbol:"
   ]
  },
  {
   "cell_type": "code",
   "execution_count": 53,
   "metadata": {},
   "outputs": [
    {
     "data": {
      "image/png": "[encoded data removed]",
      "text/plain": [
       "<Figure size 3000x2000 with 1 Axes>"
      ]
     },
     "metadata": {},
     "output_type": "display_data"
    }
   ],
   "source": [
    "pd.Series(arbol.feature_importances_,index = X_test.columns).sort_values(ascending = False).plot(kind = 'bar', figsize = (30,20));"
   ]
  },
  {
   "attachments": {},
   "cell_type": "markdown",
   "metadata": {},
   "source": [
    "### `RandomForest` "
   ]
  },
  {
   "attachments": {},
   "cell_type": "markdown",
   "metadata": {},
   "source": [
    "Utilizamos randomForest para ver su rendimiento."
   ]
  },
  {
   "cell_type": "code",
   "execution_count": 30,
   "metadata": {},
   "outputs": [
    {
     "name": "stdout",
     "output_type": "stream",
     "text": [
      "accuracy:  0.7611121951219513\n",
      "Recall:  0.8201078883590024\n",
      "F1score: 0.8107523225078447\n"
     ]
    }
   ],
   "source": [
    "# Importar la clase RandomForestClassifier\n",
    "from sklearn.ensemble import RandomForestClassifier\n",
    "\n",
    "# Crear un objeto RandomForestClassifier\n",
    "forest = RandomForestClassifier()\n",
    "\n",
    "# Entrenar el modelo con los datos de entrenamiento\n",
    "forest.fit(X_train, y_train)\n",
    "\n",
    "# Hacer predicciones en datos nuevos\n",
    "predictions = forest.predict(X_test)\n",
    "\n",
    "#usamos confusion matrix para visualizar el desempeño de un algoritmo\n",
    "#podemos observar que el modelo trabaja mucho mejor encontrando los 1 verdaderos, que los 0. \n",
    "from sklearn.metrics import confusion_matrix\n",
    "\n",
    "cm= confusion_matrix(y_test,predictions)\n",
    "cm\n",
    "\n",
    "\n",
    "#verificamos las metricas de nuestro modelo\n",
    "from sklearn import metrics\n",
    "\n",
    "print(\"accuracy: \", metrics.accuracy_score(y_test,predictions))\n",
    "print(\"Recall: \", metrics.recall_score(y_test,predictions))\n",
    "print(\"F1score:\", metrics.f1_score(y_test,predictions))"
   ]
  },
  {
   "attachments": {},
   "cell_type": "markdown",
   "metadata": {},
   "source": [
    "#### Conclusion:  \n",
    "En la puesta en practica del modelo Forest dio un sobreentrenamiento de los datos."
   ]
  },
  {
   "attachments": {},
   "cell_type": "markdown",
   "metadata": {},
   "source": [
    "Una vez terminado la primera etapa pasamos a la siguiente donde vamos a usar el csv de \"test\" para predecir y crear la culumna \"pred\". Antes de realizar esto tenemos que normalizar los datos borrando la mismas columnas y poniendolo en el mismo formato con el que trabajamos el arbol"
   ]
  },
  {
   "cell_type": "code",
   "execution_count": 42,
   "metadata": {},
   "outputs": [],
   "source": [
    "df_test = pd.read_csv(\"dataset\\hospitalizaciones_test.csv\")"
   ]
  },
  {
   "cell_type": "code",
   "execution_count": 43,
   "metadata": {},
   "outputs": [],
   "source": [
    "#dropeamos las columnas que no usaremos\n",
    "df_test = df_test.drop([\"patientid\",\"Insurance\"], axis=1)"
   ]
  },
  {
   "cell_type": "code",
   "execution_count": 44,
   "metadata": {},
   "outputs": [],
   "source": [
    "#normalizamos los datos con Label\n",
    "from sklearn import preprocessing\n",
    "le = preprocessing.LabelEncoder()\n",
    "df_test['Age'] = le.fit_transform(df_test['Age'])\n",
    "df_test['Severity of Illness'] = le.fit_transform(df_test['Severity of Illness'])"
   ]
  },
  {
   "cell_type": "code",
   "execution_count": 45,
   "metadata": {},
   "outputs": [
    {
     "name": "stderr",
     "output_type": "stream",
     "text": [
      "c:\\Users\\maxi\\anaconda3\\lib\\site-packages\\sklearn\\utils\\deprecation.py:87: FutureWarning: Function get_feature_names is deprecated; get_feature_names is deprecated in 1.0 and will be removed in 1.2. Please use get_feature_names_out instead.\n",
      "  warnings.warn(msg, category=FutureWarning)\n"
     ]
    }
   ],
   "source": [
    "#normalizamos los datos con Onehot\n",
    "#Importamos OneHot\n",
    "from sklearn.preprocessing import OneHotEncoder\n",
    "\n",
    "encoder = OneHotEncoder(categories='auto', handle_unknown='ignore')\n",
    "#pasamos las columnas que queremos transformar\n",
    "encoded_df= encoder.fit_transform(df_test[[\"Department\",\"Ward_Facility_Code\",\"doctor_name\",\"gender\",\"health_conditions\",\"Type of Admission\"]]).toarray()\n",
    "\n",
    "#lo convertimos en un df\n",
    "encoded_df = pd.DataFrame(encoded_df, columns=encoder.get_feature_names())"
   ]
  },
  {
   "cell_type": "code",
   "execution_count": 46,
   "metadata": {},
   "outputs": [],
   "source": [
    "#Creamos un nuevo df sin las columnas en las que aplicamos OneHot\n",
    "df_con = df_test.drop([\"Department\",\"Ward_Facility_Code\",\"doctor_name\",\"gender\",\"health_conditions\",\"Type of Admission\"], axis=1)"
   ]
  },
  {
   "cell_type": "code",
   "execution_count": 47,
   "metadata": {},
   "outputs": [],
   "source": [
    "#Concatenamos este nuevo df con las columnas transformadas anteriormente\n",
    "df_con = pd.concat([df_con,encoded_df], axis=1)"
   ]
  },
  {
   "cell_type": "code",
   "execution_count": 67,
   "metadata": {},
   "outputs": [
    {
     "data": {
      "text/html": [
       "<div>\n",
       "<style scoped>\n",
       "    .dataframe tbody tr th:only-of-type {\n",
       "        vertical-align: middle;\n",
       "    }\n",
       "\n",
       "    .dataframe tbody tr th {\n",
       "        vertical-align: top;\n",
       "    }\n",
       "\n",
       "    .dataframe thead th {\n",
       "        text-align: right;\n",
       "    }\n",
       "</style>\n",
       "<table border=\"1\" class=\"dataframe\">\n",
       "  <thead>\n",
       "    <tr style=\"text-align: right;\">\n",
       "      <th></th>\n",
       "      <th>Available Extra Rooms in Hospital</th>\n",
       "      <th>staff_available</th>\n",
       "      <th>Age</th>\n",
       "      <th>Severity of Illness</th>\n",
       "      <th>Visitors with Patient</th>\n",
       "      <th>Admission_Deposit</th>\n",
       "      <th>x0_TB &amp; Chest disease</th>\n",
       "      <th>x0_anesthesia</th>\n",
       "      <th>x0_gynecology</th>\n",
       "      <th>x0_radiotherapy</th>\n",
       "      <th>...</th>\n",
       "      <th>x3_Other</th>\n",
       "      <th>x4_Asthama</th>\n",
       "      <th>x4_Diabetes</th>\n",
       "      <th>x4_Heart disease</th>\n",
       "      <th>x4_High Blood Pressure</th>\n",
       "      <th>x4_None</th>\n",
       "      <th>x4_Other</th>\n",
       "      <th>x5_Emergency</th>\n",
       "      <th>x5_Trauma</th>\n",
       "      <th>x5_Urgent</th>\n",
       "    </tr>\n",
       "  </thead>\n",
       "  <tbody>\n",
       "    <tr>\n",
       "      <th>0</th>\n",
       "      <td>3</td>\n",
       "      <td>10</td>\n",
       "      <td>2</td>\n",
       "      <td>2</td>\n",
       "      <td>2</td>\n",
       "      <td>4749.640225</td>\n",
       "      <td>0.0</td>\n",
       "      <td>0.0</td>\n",
       "      <td>1.0</td>\n",
       "      <td>0.0</td>\n",
       "      <td>...</td>\n",
       "      <td>0.0</td>\n",
       "      <td>0.0</td>\n",
       "      <td>0.0</td>\n",
       "      <td>0.0</td>\n",
       "      <td>0.0</td>\n",
       "      <td>0.0</td>\n",
       "      <td>1.0</td>\n",
       "      <td>0.0</td>\n",
       "      <td>1.0</td>\n",
       "      <td>0.0</td>\n",
       "    </tr>\n",
       "    <tr>\n",
       "      <th>1</th>\n",
       "      <td>2</td>\n",
       "      <td>4</td>\n",
       "      <td>5</td>\n",
       "      <td>2</td>\n",
       "      <td>2</td>\n",
       "      <td>4122.261324</td>\n",
       "      <td>1.0</td>\n",
       "      <td>0.0</td>\n",
       "      <td>0.0</td>\n",
       "      <td>0.0</td>\n",
       "      <td>...</td>\n",
       "      <td>0.0</td>\n",
       "      <td>1.0</td>\n",
       "      <td>0.0</td>\n",
       "      <td>0.0</td>\n",
       "      <td>0.0</td>\n",
       "      <td>0.0</td>\n",
       "      <td>0.0</td>\n",
       "      <td>0.0</td>\n",
       "      <td>1.0</td>\n",
       "      <td>0.0</td>\n",
       "    </tr>\n",
       "    <tr>\n",
       "      <th>2</th>\n",
       "      <td>2</td>\n",
       "      <td>7</td>\n",
       "      <td>5</td>\n",
       "      <td>2</td>\n",
       "      <td>3</td>\n",
       "      <td>5459.067882</td>\n",
       "      <td>0.0</td>\n",
       "      <td>0.0</td>\n",
       "      <td>0.0</td>\n",
       "      <td>1.0</td>\n",
       "      <td>...</td>\n",
       "      <td>1.0</td>\n",
       "      <td>0.0</td>\n",
       "      <td>0.0</td>\n",
       "      <td>0.0</td>\n",
       "      <td>0.0</td>\n",
       "      <td>1.0</td>\n",
       "      <td>0.0</td>\n",
       "      <td>0.0</td>\n",
       "      <td>1.0</td>\n",
       "      <td>0.0</td>\n",
       "    </tr>\n",
       "    <tr>\n",
       "      <th>3</th>\n",
       "      <td>2</td>\n",
       "      <td>1</td>\n",
       "      <td>2</td>\n",
       "      <td>2</td>\n",
       "      <td>2</td>\n",
       "      <td>3987.033318</td>\n",
       "      <td>0.0</td>\n",
       "      <td>0.0</td>\n",
       "      <td>1.0</td>\n",
       "      <td>0.0</td>\n",
       "      <td>...</td>\n",
       "      <td>0.0</td>\n",
       "      <td>0.0</td>\n",
       "      <td>0.0</td>\n",
       "      <td>0.0</td>\n",
       "      <td>0.0</td>\n",
       "      <td>1.0</td>\n",
       "      <td>0.0</td>\n",
       "      <td>0.0</td>\n",
       "      <td>1.0</td>\n",
       "      <td>0.0</td>\n",
       "    </tr>\n",
       "    <tr>\n",
       "      <th>4</th>\n",
       "      <td>2</td>\n",
       "      <td>7</td>\n",
       "      <td>5</td>\n",
       "      <td>0</td>\n",
       "      <td>2</td>\n",
       "      <td>4770.789695</td>\n",
       "      <td>0.0</td>\n",
       "      <td>1.0</td>\n",
       "      <td>0.0</td>\n",
       "      <td>0.0</td>\n",
       "      <td>...</td>\n",
       "      <td>0.0</td>\n",
       "      <td>0.0</td>\n",
       "      <td>1.0</td>\n",
       "      <td>0.0</td>\n",
       "      <td>0.0</td>\n",
       "      <td>0.0</td>\n",
       "      <td>0.0</td>\n",
       "      <td>0.0</td>\n",
       "      <td>1.0</td>\n",
       "      <td>0.0</td>\n",
       "    </tr>\n",
       "    <tr>\n",
       "      <th>...</th>\n",
       "      <td>...</td>\n",
       "      <td>...</td>\n",
       "      <td>...</td>\n",
       "      <td>...</td>\n",
       "      <td>...</td>\n",
       "      <td>...</td>\n",
       "      <td>...</td>\n",
       "      <td>...</td>\n",
       "      <td>...</td>\n",
       "      <td>...</td>\n",
       "      <td>...</td>\n",
       "      <td>...</td>\n",
       "      <td>...</td>\n",
       "      <td>...</td>\n",
       "      <td>...</td>\n",
       "      <td>...</td>\n",
       "      <td>...</td>\n",
       "      <td>...</td>\n",
       "      <td>...</td>\n",
       "      <td>...</td>\n",
       "      <td>...</td>\n",
       "    </tr>\n",
       "    <tr>\n",
       "      <th>89995</th>\n",
       "      <td>4</td>\n",
       "      <td>2</td>\n",
       "      <td>1</td>\n",
       "      <td>1</td>\n",
       "      <td>3</td>\n",
       "      <td>4105.795901</td>\n",
       "      <td>0.0</td>\n",
       "      <td>0.0</td>\n",
       "      <td>1.0</td>\n",
       "      <td>0.0</td>\n",
       "      <td>...</td>\n",
       "      <td>0.0</td>\n",
       "      <td>0.0</td>\n",
       "      <td>0.0</td>\n",
       "      <td>0.0</td>\n",
       "      <td>1.0</td>\n",
       "      <td>0.0</td>\n",
       "      <td>0.0</td>\n",
       "      <td>0.0</td>\n",
       "      <td>1.0</td>\n",
       "      <td>0.0</td>\n",
       "    </tr>\n",
       "    <tr>\n",
       "      <th>89996</th>\n",
       "      <td>13</td>\n",
       "      <td>8</td>\n",
       "      <td>3</td>\n",
       "      <td>2</td>\n",
       "      <td>2</td>\n",
       "      <td>4631.550257</td>\n",
       "      <td>0.0</td>\n",
       "      <td>0.0</td>\n",
       "      <td>1.0</td>\n",
       "      <td>0.0</td>\n",
       "      <td>...</td>\n",
       "      <td>0.0</td>\n",
       "      <td>0.0</td>\n",
       "      <td>0.0</td>\n",
       "      <td>0.0</td>\n",
       "      <td>0.0</td>\n",
       "      <td>0.0</td>\n",
       "      <td>1.0</td>\n",
       "      <td>1.0</td>\n",
       "      <td>0.0</td>\n",
       "      <td>0.0</td>\n",
       "    </tr>\n",
       "    <tr>\n",
       "      <th>89997</th>\n",
       "      <td>2</td>\n",
       "      <td>3</td>\n",
       "      <td>1</td>\n",
       "      <td>2</td>\n",
       "      <td>2</td>\n",
       "      <td>5456.930075</td>\n",
       "      <td>0.0</td>\n",
       "      <td>0.0</td>\n",
       "      <td>1.0</td>\n",
       "      <td>0.0</td>\n",
       "      <td>...</td>\n",
       "      <td>0.0</td>\n",
       "      <td>0.0</td>\n",
       "      <td>0.0</td>\n",
       "      <td>0.0</td>\n",
       "      <td>1.0</td>\n",
       "      <td>0.0</td>\n",
       "      <td>0.0</td>\n",
       "      <td>1.0</td>\n",
       "      <td>0.0</td>\n",
       "      <td>0.0</td>\n",
       "    </tr>\n",
       "    <tr>\n",
       "      <th>89998</th>\n",
       "      <td>2</td>\n",
       "      <td>1</td>\n",
       "      <td>6</td>\n",
       "      <td>0</td>\n",
       "      <td>2</td>\n",
       "      <td>4694.127772</td>\n",
       "      <td>0.0</td>\n",
       "      <td>0.0</td>\n",
       "      <td>0.0</td>\n",
       "      <td>1.0</td>\n",
       "      <td>...</td>\n",
       "      <td>0.0</td>\n",
       "      <td>0.0</td>\n",
       "      <td>1.0</td>\n",
       "      <td>0.0</td>\n",
       "      <td>0.0</td>\n",
       "      <td>0.0</td>\n",
       "      <td>0.0</td>\n",
       "      <td>0.0</td>\n",
       "      <td>1.0</td>\n",
       "      <td>0.0</td>\n",
       "    </tr>\n",
       "    <tr>\n",
       "      <th>89999</th>\n",
       "      <td>3</td>\n",
       "      <td>3</td>\n",
       "      <td>4</td>\n",
       "      <td>2</td>\n",
       "      <td>4</td>\n",
       "      <td>4713.868519</td>\n",
       "      <td>0.0</td>\n",
       "      <td>0.0</td>\n",
       "      <td>1.0</td>\n",
       "      <td>0.0</td>\n",
       "      <td>...</td>\n",
       "      <td>0.0</td>\n",
       "      <td>0.0</td>\n",
       "      <td>0.0</td>\n",
       "      <td>1.0</td>\n",
       "      <td>0.0</td>\n",
       "      <td>0.0</td>\n",
       "      <td>0.0</td>\n",
       "      <td>0.0</td>\n",
       "      <td>1.0</td>\n",
       "      <td>0.0</td>\n",
       "    </tr>\n",
       "  </tbody>\n",
       "</table>\n",
       "<p>90000 rows × 38 columns</p>\n",
       "</div>"
      ],
      "text/plain": [
       "       Available Extra Rooms in Hospital  staff_available  Age  \\\n",
       "0                                      3               10    2   \n",
       "1                                      2                4    5   \n",
       "2                                      2                7    5   \n",
       "3                                      2                1    2   \n",
       "4                                      2                7    5   \n",
       "...                                  ...              ...  ...   \n",
       "89995                                  4                2    1   \n",
       "89996                                 13                8    3   \n",
       "89997                                  2                3    1   \n",
       "89998                                  2                1    6   \n",
       "89999                                  3                3    4   \n",
       "\n",
       "       Severity of Illness  Visitors with Patient  Admission_Deposit  \\\n",
       "0                        2                      2        4749.640225   \n",
       "1                        2                      2        4122.261324   \n",
       "2                        2                      3        5459.067882   \n",
       "3                        2                      2        3987.033318   \n",
       "4                        0                      2        4770.789695   \n",
       "...                    ...                    ...                ...   \n",
       "89995                    1                      3        4105.795901   \n",
       "89996                    2                      2        4631.550257   \n",
       "89997                    2                      2        5456.930075   \n",
       "89998                    0                      2        4694.127772   \n",
       "89999                    2                      4        4713.868519   \n",
       "\n",
       "       x0_TB & Chest disease  x0_anesthesia  x0_gynecology  x0_radiotherapy  \\\n",
       "0                        0.0            0.0            1.0              0.0   \n",
       "1                        1.0            0.0            0.0              0.0   \n",
       "2                        0.0            0.0            0.0              1.0   \n",
       "3                        0.0            0.0            1.0              0.0   \n",
       "4                        0.0            1.0            0.0              0.0   \n",
       "...                      ...            ...            ...              ...   \n",
       "89995                    0.0            0.0            1.0              0.0   \n",
       "89996                    0.0            0.0            1.0              0.0   \n",
       "89997                    0.0            0.0            1.0              0.0   \n",
       "89998                    0.0            0.0            0.0              1.0   \n",
       "89999                    0.0            0.0            1.0              0.0   \n",
       "\n",
       "       ...  x3_Other  x4_Asthama  x4_Diabetes  x4_Heart disease  \\\n",
       "0      ...       0.0         0.0          0.0               0.0   \n",
       "1      ...       0.0         1.0          0.0               0.0   \n",
       "2      ...       1.0         0.0          0.0               0.0   \n",
       "3      ...       0.0         0.0          0.0               0.0   \n",
       "4      ...       0.0         0.0          1.0               0.0   \n",
       "...    ...       ...         ...          ...               ...   \n",
       "89995  ...       0.0         0.0          0.0               0.0   \n",
       "89996  ...       0.0         0.0          0.0               0.0   \n",
       "89997  ...       0.0         0.0          0.0               0.0   \n",
       "89998  ...       0.0         0.0          1.0               0.0   \n",
       "89999  ...       0.0         0.0          0.0               1.0   \n",
       "\n",
       "       x4_High Blood Pressure  x4_None  x4_Other  x5_Emergency  x5_Trauma  \\\n",
       "0                         0.0      0.0       1.0           0.0        1.0   \n",
       "1                         0.0      0.0       0.0           0.0        1.0   \n",
       "2                         0.0      1.0       0.0           0.0        1.0   \n",
       "3                         0.0      1.0       0.0           0.0        1.0   \n",
       "4                         0.0      0.0       0.0           0.0        1.0   \n",
       "...                       ...      ...       ...           ...        ...   \n",
       "89995                     1.0      0.0       0.0           0.0        1.0   \n",
       "89996                     0.0      0.0       1.0           1.0        0.0   \n",
       "89997                     1.0      0.0       0.0           1.0        0.0   \n",
       "89998                     0.0      0.0       0.0           0.0        1.0   \n",
       "89999                     0.0      0.0       0.0           0.0        1.0   \n",
       "\n",
       "       x5_Urgent  \n",
       "0            0.0  \n",
       "1            0.0  \n",
       "2            0.0  \n",
       "3            0.0  \n",
       "4            0.0  \n",
       "...          ...  \n",
       "89995        0.0  \n",
       "89996        0.0  \n",
       "89997        0.0  \n",
       "89998        0.0  \n",
       "89999        0.0  \n",
       "\n",
       "[90000 rows x 38 columns]"
      ]
     },
     "execution_count": 67,
     "metadata": {},
     "output_type": "execute_result"
    }
   ],
   "source": [
    "df_con"
   ]
  },
  {
   "cell_type": "code",
   "execution_count": 48,
   "metadata": {},
   "outputs": [],
   "source": [
    "#realizamos la prediccion\n",
    "test_pred = arbol.predict(df_con)"
   ]
  },
  {
   "cell_type": "code",
   "execution_count": 49,
   "metadata": {},
   "outputs": [],
   "source": [
    "#transformamos el array en df y le cambiamos el nombre a la columna\n",
    "df_pred = pd.DataFrame(test_pred, columns=[\"pred\"])\n"
   ]
  },
  {
   "cell_type": "code",
   "execution_count": 92,
   "metadata": {},
   "outputs": [
    {
     "data": {
      "text/html": [
       "<div>\n",
       "<style scoped>\n",
       "    .dataframe tbody tr th:only-of-type {\n",
       "        vertical-align: middle;\n",
       "    }\n",
       "\n",
       "    .dataframe tbody tr th {\n",
       "        vertical-align: top;\n",
       "    }\n",
       "\n",
       "    .dataframe thead th {\n",
       "        text-align: right;\n",
       "    }\n",
       "</style>\n",
       "<table border=\"1\" class=\"dataframe\">\n",
       "  <thead>\n",
       "    <tr style=\"text-align: right;\">\n",
       "      <th></th>\n",
       "      <th>pred</th>\n",
       "    </tr>\n",
       "  </thead>\n",
       "  <tbody>\n",
       "    <tr>\n",
       "      <th>0</th>\n",
       "      <td>0</td>\n",
       "    </tr>\n",
       "    <tr>\n",
       "      <th>1</th>\n",
       "      <td>1</td>\n",
       "    </tr>\n",
       "    <tr>\n",
       "      <th>2</th>\n",
       "      <td>1</td>\n",
       "    </tr>\n",
       "    <tr>\n",
       "      <th>3</th>\n",
       "      <td>1</td>\n",
       "    </tr>\n",
       "    <tr>\n",
       "      <th>4</th>\n",
       "      <td>1</td>\n",
       "    </tr>\n",
       "    <tr>\n",
       "      <th>...</th>\n",
       "      <td>...</td>\n",
       "    </tr>\n",
       "    <tr>\n",
       "      <th>89995</th>\n",
       "      <td>0</td>\n",
       "    </tr>\n",
       "    <tr>\n",
       "      <th>89996</th>\n",
       "      <td>1</td>\n",
       "    </tr>\n",
       "    <tr>\n",
       "      <th>89997</th>\n",
       "      <td>0</td>\n",
       "    </tr>\n",
       "    <tr>\n",
       "      <th>89998</th>\n",
       "      <td>1</td>\n",
       "    </tr>\n",
       "    <tr>\n",
       "      <th>89999</th>\n",
       "      <td>1</td>\n",
       "    </tr>\n",
       "  </tbody>\n",
       "</table>\n",
       "<p>90000 rows × 1 columns</p>\n",
       "</div>"
      ],
      "text/plain": [
       "       pred\n",
       "0         0\n",
       "1         1\n",
       "2         1\n",
       "3         1\n",
       "4         1\n",
       "...     ...\n",
       "89995     0\n",
       "89996     1\n",
       "89997     0\n",
       "89998     1\n",
       "89999     1\n",
       "\n",
       "[90000 rows x 1 columns]"
      ]
     },
     "execution_count": 92,
     "metadata": {},
     "output_type": "execute_result"
    }
   ],
   "source": [
    "df_pred"
   ]
  },
  {
   "cell_type": "code",
   "execution_count": 50,
   "metadata": {},
   "outputs": [],
   "source": [
    "#lo hacemos al df un csv y le sacamos el index\n",
    "df_pred.to_csv(\"MaxiDS.csv\", index=False)"
   ]
  }
 ],
 "metadata": {
  "kernelspec": {
   "display_name": "base",
   "language": "python",
   "name": "python3"
  },
  "language_info": {
   "codemirror_mode": {
    "name": "ipython",
    "version": 3
   },
   "file_extension": ".py",
   "mimetype": "text/x-python",
   "name": "python",
   "nbconvert_exporter": "python",
   "pygments_lexer": "ipython3",
   "version": "3.9.13"
  },
  "orig_nbformat": 4,
  "vscode": {
   "interpreter": {
    "hash": "5cb6843b2bdfa04223ad47904ee87b5cec631984c46fdd752a44964852f2ec12"
   }
  }
 },
 "nbformat": 4,
 "nbformat_minor": 2
}
