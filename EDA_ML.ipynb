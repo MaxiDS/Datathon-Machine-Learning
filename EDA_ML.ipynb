{
 "cells": [
  {
   "attachments": {},
   "cell_type": "markdown",
   "metadata": {},
   "source": [
    "Importamos librerias:"
   ]
  },
  {
   "cell_type": "code",
   "execution_count": 1,
   "metadata": {},
   "outputs": [],
   "source": [
    "import pandas as pd \n",
    "import numpy as np \n",
    "import matplotlib.pyplot as plt \n",
    "%matplotlib inline\n",
    "import seaborn as sns"
   ]
  },
  {
   "cell_type": "code",
   "execution_count": 2,
   "metadata": {},
   "outputs": [],
   "source": [
    "#cargamos el csv\n",
    "df_hosp = pd.read_csv(\"dataset\\hospitalizaciones_train.csv\")"
   ]
  },
  {
   "attachments": {},
   "cell_type": "markdown",
   "metadata": {},
   "source": [
    "Comenzamos a analizar:  \n",
    "\n",
    "**Available Extra Rooms in Hospital:** Habitaciones adicionales disponibles en el hospital. Una habitación no es igual a un paciente, pueden ser individuales o compartidas.  \n",
    "\n",
    "**Department:** Área de atención a la que ingresa el paciente.  \n",
    "\n",
    "**Ward_Facility_Code:** Código de la habitación del paciente.  \n",
    "\n",
    "**doctor_name:** Nombre de el/la doctor/a a cargo del paciente.  \n",
    "\n",
    "**staff_available:** Cantidad de personal disponible al momento del ingreso del paciente.  \n",
    "\n",
    "**patientid:** Identificador del paciente.  \n",
    "\n",
    "**Age:** Edad del paciente.  \n",
    "\n",
    "**gender:** Género del paciente.  \n",
    "\n",
    "**Type of Admission:** Tipo de ingreso registrado según la situación de ingreso del paciente.  \n",
    "\n",
    "**Severity of Illness:** Gravedad de la enfermedad/condición/estado del paciente al momento del ingreso.  \n",
    "\n",
    "**health_conditions:** Condiciones de salud del paciente.  \n",
    "\n",
    "**Visitors with Patient:** Cantidad de visitantes registrados para el paciente.  \n",
    "\n",
    "**Insurance:** Indica si la persona posee o no seguro de salud.  \n",
    "\n",
    "**Admission_Deposit:** Pago realizado a nombre del paciente, con el fin de cubrir los costos iniciales de internación.  \n",
    "\n",
    "**Stay (in days):** Días registrados de estancia hospitalaria.   "
   ]
  },
  {
   "cell_type": "code",
   "execution_count": 3,
   "metadata": {},
   "outputs": [
    {
     "data": {
      "text/html": [
       "<div>\n",
       "<style scoped>\n",
       "    .dataframe tbody tr th:only-of-type {\n",
       "        vertical-align: middle;\n",
       "    }\n",
       "\n",
       "    .dataframe tbody tr th {\n",
       "        vertical-align: top;\n",
       "    }\n",
       "\n",
       "    .dataframe thead th {\n",
       "        text-align: right;\n",
       "    }\n",
       "</style>\n",
       "<table border=\"1\" class=\"dataframe\">\n",
       "  <thead>\n",
       "    <tr style=\"text-align: right;\">\n",
       "      <th></th>\n",
       "      <th>Available Extra Rooms in Hospital</th>\n",
       "      <th>Department</th>\n",
       "      <th>Ward_Facility_Code</th>\n",
       "      <th>doctor_name</th>\n",
       "      <th>staff_available</th>\n",
       "      <th>patientid</th>\n",
       "      <th>Age</th>\n",
       "      <th>gender</th>\n",
       "      <th>Type of Admission</th>\n",
       "      <th>Severity of Illness</th>\n",
       "      <th>health_conditions</th>\n",
       "      <th>Visitors with Patient</th>\n",
       "      <th>Insurance</th>\n",
       "      <th>Admission_Deposit</th>\n",
       "      <th>Stay (in days)</th>\n",
       "    </tr>\n",
       "  </thead>\n",
       "  <tbody>\n",
       "    <tr>\n",
       "      <th>0</th>\n",
       "      <td>4</td>\n",
       "      <td>gynecology</td>\n",
       "      <td>D</td>\n",
       "      <td>Dr Sophia</td>\n",
       "      <td>0</td>\n",
       "      <td>33070</td>\n",
       "      <td>41-50</td>\n",
       "      <td>Female</td>\n",
       "      <td>Trauma</td>\n",
       "      <td>Extreme</td>\n",
       "      <td>Diabetes</td>\n",
       "      <td>4</td>\n",
       "      <td>Yes</td>\n",
       "      <td>2966.408696</td>\n",
       "      <td>8</td>\n",
       "    </tr>\n",
       "    <tr>\n",
       "      <th>1</th>\n",
       "      <td>4</td>\n",
       "      <td>gynecology</td>\n",
       "      <td>B</td>\n",
       "      <td>Dr Sophia</td>\n",
       "      <td>2</td>\n",
       "      <td>34808</td>\n",
       "      <td>31-40</td>\n",
       "      <td>Female</td>\n",
       "      <td>Trauma</td>\n",
       "      <td>Minor</td>\n",
       "      <td>Heart disease</td>\n",
       "      <td>2</td>\n",
       "      <td>No</td>\n",
       "      <td>3554.835677</td>\n",
       "      <td>9</td>\n",
       "    </tr>\n",
       "    <tr>\n",
       "      <th>2</th>\n",
       "      <td>2</td>\n",
       "      <td>gynecology</td>\n",
       "      <td>B</td>\n",
       "      <td>Dr Sophia</td>\n",
       "      <td>8</td>\n",
       "      <td>44577</td>\n",
       "      <td>21-30</td>\n",
       "      <td>Female</td>\n",
       "      <td>Trauma</td>\n",
       "      <td>Extreme</td>\n",
       "      <td>Diabetes</td>\n",
       "      <td>2</td>\n",
       "      <td>Yes</td>\n",
       "      <td>5624.733654</td>\n",
       "      <td>7</td>\n",
       "    </tr>\n",
       "    <tr>\n",
       "      <th>3</th>\n",
       "      <td>4</td>\n",
       "      <td>gynecology</td>\n",
       "      <td>D</td>\n",
       "      <td>Dr Olivia</td>\n",
       "      <td>7</td>\n",
       "      <td>3695</td>\n",
       "      <td>31-40</td>\n",
       "      <td>Female</td>\n",
       "      <td>Urgent</td>\n",
       "      <td>Moderate</td>\n",
       "      <td>None</td>\n",
       "      <td>4</td>\n",
       "      <td>No</td>\n",
       "      <td>4814.149231</td>\n",
       "      <td>8</td>\n",
       "    </tr>\n",
       "    <tr>\n",
       "      <th>4</th>\n",
       "      <td>2</td>\n",
       "      <td>anesthesia</td>\n",
       "      <td>E</td>\n",
       "      <td>Dr Mark</td>\n",
       "      <td>10</td>\n",
       "      <td>108956</td>\n",
       "      <td>71-80</td>\n",
       "      <td>Male</td>\n",
       "      <td>Trauma</td>\n",
       "      <td>Moderate</td>\n",
       "      <td>Diabetes</td>\n",
       "      <td>2</td>\n",
       "      <td>No</td>\n",
       "      <td>5169.269637</td>\n",
       "      <td>34</td>\n",
       "    </tr>\n",
       "  </tbody>\n",
       "</table>\n",
       "</div>"
      ],
      "text/plain": [
       "   Available Extra Rooms in Hospital  Department Ward_Facility_Code  \\\n",
       "0                                  4  gynecology                  D   \n",
       "1                                  4  gynecology                  B   \n",
       "2                                  2  gynecology                  B   \n",
       "3                                  4  gynecology                  D   \n",
       "4                                  2  anesthesia                  E   \n",
       "\n",
       "  doctor_name  staff_available  patientid    Age  gender Type of Admission  \\\n",
       "0   Dr Sophia                0      33070  41-50  Female            Trauma   \n",
       "1   Dr Sophia                2      34808  31-40  Female            Trauma   \n",
       "2   Dr Sophia                8      44577  21-30  Female            Trauma   \n",
       "3   Dr Olivia                7       3695  31-40  Female            Urgent   \n",
       "4     Dr Mark               10     108956  71-80    Male            Trauma   \n",
       "\n",
       "  Severity of Illness health_conditions  Visitors with Patient Insurance  \\\n",
       "0             Extreme          Diabetes                      4       Yes   \n",
       "1               Minor     Heart disease                      2        No   \n",
       "2             Extreme          Diabetes                      2       Yes   \n",
       "3            Moderate              None                      4        No   \n",
       "4            Moderate          Diabetes                      2        No   \n",
       "\n",
       "   Admission_Deposit  Stay (in days)  \n",
       "0        2966.408696               8  \n",
       "1        3554.835677               9  \n",
       "2        5624.733654               7  \n",
       "3        4814.149231               8  \n",
       "4        5169.269637              34  "
      ]
     },
     "execution_count": 3,
     "metadata": {},
     "output_type": "execute_result"
    }
   ],
   "source": [
    "df_hosp.head()"
   ]
  },
  {
   "cell_type": "code",
   "execution_count": 4,
   "metadata": {},
   "outputs": [],
   "source": [
    "#pasamos la columna de dias a mayor a 8 dias =1 o ,menor a 8 dias = 0 \n",
    "df_hosp[\"pred\"] = df_hosp[\"Stay (in days)\"].apply(lambda x: 1 if x > 8 else 0)"
   ]
  },
  {
   "cell_type": "code",
   "execution_count": 5,
   "metadata": {},
   "outputs": [],
   "source": [
    "#dropeamos la columna \"Stay (in days)\" ya que es redundante.\n",
    "df_hosp = df_hosp.drop([\"Stay (in days)\"],axis=1)"
   ]
  },
  {
   "attachments": {},
   "cell_type": "markdown",
   "metadata": {},
   "source": [
    "#### EDA VARIABLES CATEGÓRICAS / NUMERICAS"
   ]
  },
  {
   "attachments": {},
   "cell_type": "markdown",
   "metadata": {},
   "source": [
    "Control de correlacion de las columnas con respecto a \"pred\"  \n",
    "\n",
    "Para calcular la correlación entre datos numéricos y categóricos en Python, puedes usar la función pandas.crosstab() junto con la función scipy.stats.chi2_contingency(). Primero, crea una tabla de contingencia usando la función pandas.crosstab() y luego calcula la correlación entre las variables utilizando scipy.stats.chi2_contingency()"
   ]
  },
  {
   "attachments": {},
   "cell_type": "markdown",
   "metadata": {},
   "source": [
    "La función stats.chi2_contingency() devuelve una tupla de cuatro valores. Los dos primeros valores son el valor del estadístico chi-cuadrado y el p-valor correspondiente. El tercer valor es el número de grados de libertad asociados con el estadístico chi-cuadrado. El cuarto valor es una matriz de contingencia que contiene los valores observados en la tabla de contingencia.  \n",
    "\n",
    "En mi caso usare P para ver la relacion entre columnas"
   ]
  },
  {
   "cell_type": "code",
   "execution_count": 6,
   "metadata": {},
   "outputs": [],
   "source": [
    "#traemos la libreria scipy\n",
    "from scipy import stats"
   ]
  },
  {
   "cell_type": "code",
   "execution_count": 7,
   "metadata": {},
   "outputs": [
    {
     "name": "stdout",
     "output_type": "stream",
     "text": [
      "0.0\n"
     ]
    }
   ],
   "source": [
    "# Crea una tabla de contingencia\n",
    "cor= pd.crosstab(df_hosp[\"pred\"], df_hosp[\"Available Extra Rooms in Hospital\"])\n",
    "# Calcula la correlación entre las variables\n",
    "chi2, p, dof, expected = stats.chi2_contingency(cor)\n",
    "print(p)"
   ]
  },
  {
   "cell_type": "code",
   "execution_count": 8,
   "metadata": {},
   "outputs": [
    {
     "name": "stdout",
     "output_type": "stream",
     "text": [
      "0.0\n"
     ]
    }
   ],
   "source": [
    "# Crea una tabla de contingencia\n",
    "cor= pd.crosstab(df_hosp[\"pred\"], df_hosp[\"Department\"])\n",
    "# Calcula la correlación entre las variables\n",
    "chi2, p, dof, expected = stats.chi2_contingency(cor)\n",
    "print(p)"
   ]
  },
  {
   "cell_type": "code",
   "execution_count": 9,
   "metadata": {},
   "outputs": [
    {
     "name": "stdout",
     "output_type": "stream",
     "text": [
      "0.0\n"
     ]
    }
   ],
   "source": [
    "# Crea una tabla de contingencia\n",
    "cor= pd.crosstab(df_hosp[\"pred\"], df_hosp[\"Ward_Facility_Code\"])\n",
    "# Calcula la correlación entre las variables\n",
    "chi2, p, dof, expected = stats.chi2_contingency(cor)\n",
    "print(p)"
   ]
  },
  {
   "cell_type": "code",
   "execution_count": 10,
   "metadata": {},
   "outputs": [
    {
     "name": "stdout",
     "output_type": "stream",
     "text": [
      "0.0\n"
     ]
    }
   ],
   "source": [
    "# Crea una tabla de contingencia\n",
    "cor= pd.crosstab(df_hosp[\"pred\"], df_hosp[\"doctor_name\"])\n",
    "# Calcula la correlación entre las variables\n",
    "chi2, p, dof, expected = stats.chi2_contingency(cor)\n",
    "print(p)"
   ]
  },
  {
   "cell_type": "code",
   "execution_count": 11,
   "metadata": {},
   "outputs": [
    {
     "name": "stdout",
     "output_type": "stream",
     "text": [
      "0.027185032657605395\n"
     ]
    }
   ],
   "source": [
    "# Crea una tabla de contingencia\n",
    "cor= pd.crosstab(df_hosp[\"pred\"], df_hosp[\"staff_available\"])\n",
    "# Calcula la correlación entre las variables\n",
    "chi2, p, dof, expected = stats.chi2_contingency(cor)\n",
    "print(p)"
   ]
  },
  {
   "cell_type": "code",
   "execution_count": 12,
   "metadata": {},
   "outputs": [
    {
     "name": "stdout",
     "output_type": "stream",
     "text": [
      "0.2915705642154938\n"
     ]
    }
   ],
   "source": [
    "# Crea una tabla de contingencia\n",
    "cor= pd.crosstab(df_hosp[\"pred\"], df_hosp[\"patientid\"])\n",
    "# Calcula la correlación entre las variables\n",
    "chi2, p, dof, expected = stats.chi2_contingency(cor)\n",
    "print(p)"
   ]
  },
  {
   "cell_type": "code",
   "execution_count": 13,
   "metadata": {},
   "outputs": [
    {
     "name": "stdout",
     "output_type": "stream",
     "text": [
      "0.0\n"
     ]
    }
   ],
   "source": [
    "# Crea una tabla de contingencia\n",
    "cor= pd.crosstab(df_hosp[\"pred\"], df_hosp[\"Age\"])\n",
    "# Calcula la correlación entre las variables\n",
    "chi2, p, dof, expected = stats.chi2_contingency(cor)\n",
    "print(p)"
   ]
  },
  {
   "cell_type": "code",
   "execution_count": 14,
   "metadata": {},
   "outputs": [
    {
     "name": "stdout",
     "output_type": "stream",
     "text": [
      "0.0\n"
     ]
    }
   ],
   "source": [
    "# Crea una tabla de contingencia\n",
    "cor= pd.crosstab(df_hosp[\"pred\"], df_hosp[\"gender\"])\n",
    "# Calcula la correlación entre las variables\n",
    "chi2, p, dof, expected = stats.chi2_contingency(cor)\n",
    "print(p)"
   ]
  },
  {
   "cell_type": "code",
   "execution_count": 15,
   "metadata": {},
   "outputs": [
    {
     "name": "stdout",
     "output_type": "stream",
     "text": [
      "1.6947748596830627e-21\n"
     ]
    }
   ],
   "source": [
    "# Crea una tabla de contingencia\n",
    "cor= pd.crosstab(df_hosp[\"pred\"], df_hosp[\"Type of Admission\"])\n",
    "# Calcula la correlación entre las variables\n",
    "chi2, p, dof, expected = stats.chi2_contingency(cor)\n",
    "print(p)"
   ]
  },
  {
   "cell_type": "code",
   "execution_count": 16,
   "metadata": {},
   "outputs": [
    {
     "name": "stdout",
     "output_type": "stream",
     "text": [
      "2.8750137241379228e-130\n"
     ]
    }
   ],
   "source": [
    "# Crea una tabla de contingencia\n",
    "cor= pd.crosstab(df_hosp[\"pred\"], df_hosp[\"Severity of Illness\"])\n",
    "# Calcula la correlación entre las variables\n",
    "chi2, p, dof, expected = stats.chi2_contingency(cor)\n",
    "print(p)"
   ]
  },
  {
   "cell_type": "code",
   "execution_count": 17,
   "metadata": {},
   "outputs": [
    {
     "name": "stdout",
     "output_type": "stream",
     "text": [
      "5.658483183151773e-09\n"
     ]
    }
   ],
   "source": [
    "# Crea una tabla de contingencia\n",
    "cor= pd.crosstab(df_hosp[\"pred\"], df_hosp[\"health_conditions\"])\n",
    "# Calcula la correlación entre las variables\n",
    "chi2, p, dof, expected = stats.chi2_contingency(cor)\n",
    "print(p)"
   ]
  },
  {
   "cell_type": "code",
   "execution_count": 18,
   "metadata": {},
   "outputs": [
    {
     "name": "stdout",
     "output_type": "stream",
     "text": [
      "0.0\n"
     ]
    }
   ],
   "source": [
    "# Crea una tabla de contingencia\n",
    "cor= pd.crosstab(df_hosp[\"pred\"], df_hosp[\"Visitors with Patient\"])\n",
    "# Calcula la correlación entre las variables\n",
    "chi2, p, dof, expected = stats.chi2_contingency(cor)\n",
    "print(p)"
   ]
  },
  {
   "cell_type": "code",
   "execution_count": 19,
   "metadata": {},
   "outputs": [
    {
     "name": "stdout",
     "output_type": "stream",
     "text": [
      "0.4988221951889673\n"
     ]
    }
   ],
   "source": [
    "# Crea una tabla de contingencia\n",
    "cor= pd.crosstab(df_hosp[\"pred\"], df_hosp[\"Insurance\"])\n",
    "# Calcula la correlación entre las variables\n",
    "chi2, p, dof, expected = stats.chi2_contingency(cor)\n",
    "print(p)"
   ]
  },
  {
   "cell_type": "code",
   "execution_count": 20,
   "metadata": {},
   "outputs": [
    {
     "name": "stdout",
     "output_type": "stream",
     "text": [
      "0.49327701140734725\n"
     ]
    }
   ],
   "source": [
    "# Crea una tabla de contingencia\n",
    "cor= pd.crosstab(df_hosp[\"pred\"], df_hosp[\"Admission_Deposit\"])\n",
    "# Calcula la correlación entre las variables\n",
    "chi2, p, dof, expected = stats.chi2_contingency(cor)\n",
    "print(p)"
   ]
  },
  {
   "attachments": {},
   "cell_type": "markdown",
   "metadata": {},
   "source": [
    "#### Conclusion:  \n",
    "Luego de analizar la correlacion llegando a la conclusion de que si p es menor a 0.05 tiene una correlacion valiosa y si es mas alto de 0.5 no tienen una correlacion muy buena   \n",
    "- Se van a eliminar las siguientes columnas al no tener una buena correlacion con nuestra columna pred:    \n",
    "  - patientid  \n",
    "  - Insurance  \n",
    "- Observacion:\n",
    "  - Admission_Deposit (despues de testearlo con y sin esta columna se llego a la conclusion que no se va a eliminar ya que mejora al modelo)\n",
    " \n"
   ]
  },
  {
   "cell_type": "code",
   "execution_count": 21,
   "metadata": {},
   "outputs": [],
   "source": [
    "#creamos nuestro df con el que vamos a trabajar la parte de ML\n",
    "df_ml = df_hosp.drop([\"patientid\",\"Insurance\"], axis=1)"
   ]
  },
  {
   "attachments": {},
   "cell_type": "markdown",
   "metadata": {},
   "source": [
    "##### normalizacion de datos\n"
   ]
  },
  {
   "cell_type": "code",
   "execution_count": 22,
   "metadata": {},
   "outputs": [],
   "source": [
    "#aplicamos labelencoder a las columnas Age y Severity of Illness porque despues del testeo con dummi, da mejor rendimiento de esta manera\n",
    "from sklearn import preprocessing\n",
    "le = preprocessing.LabelEncoder()\n",
    "df_ml['Age'] = le.fit_transform(df_ml['Age'])\n",
    "df_ml['Severity of Illness'] = le.fit_transform(df_ml['Severity of Illness'])"
   ]
  },
  {
   "attachments": {},
   "cell_type": "markdown",
   "metadata": {},
   "source": [
    "La función pd.get_dummies() de Pandas se utiliza para convertir una columna de datos categóricos en una matriz de variables dummy (también conocida como codificación one-hot)"
   ]
  },
  {
   "cell_type": "code",
   "execution_count": 23,
   "metadata": {},
   "outputs": [],
   "source": [
    "df_ml = pd.get_dummies(df_ml)"
   ]
  },
  {
   "cell_type": "code",
   "execution_count": 24,
   "metadata": {},
   "outputs": [
    {
     "data": {
      "text/html": [
       "<div>\n",
       "<style scoped>\n",
       "    .dataframe tbody tr th:only-of-type {\n",
       "        vertical-align: middle;\n",
       "    }\n",
       "\n",
       "    .dataframe tbody tr th {\n",
       "        vertical-align: top;\n",
       "    }\n",
       "\n",
       "    .dataframe thead th {\n",
       "        text-align: right;\n",
       "    }\n",
       "</style>\n",
       "<table border=\"1\" class=\"dataframe\">\n",
       "  <thead>\n",
       "    <tr style=\"text-align: right;\">\n",
       "      <th></th>\n",
       "      <th>Available Extra Rooms in Hospital</th>\n",
       "      <th>staff_available</th>\n",
       "      <th>Age</th>\n",
       "      <th>Severity of Illness</th>\n",
       "      <th>Visitors with Patient</th>\n",
       "      <th>Admission_Deposit</th>\n",
       "      <th>pred</th>\n",
       "      <th>Department_TB &amp; Chest disease</th>\n",
       "      <th>Department_anesthesia</th>\n",
       "      <th>Department_gynecology</th>\n",
       "      <th>...</th>\n",
       "      <th>gender_Other</th>\n",
       "      <th>Type of Admission_Emergency</th>\n",
       "      <th>Type of Admission_Trauma</th>\n",
       "      <th>Type of Admission_Urgent</th>\n",
       "      <th>health_conditions_Asthama</th>\n",
       "      <th>health_conditions_Diabetes</th>\n",
       "      <th>health_conditions_Heart disease</th>\n",
       "      <th>health_conditions_High Blood Pressure</th>\n",
       "      <th>health_conditions_None</th>\n",
       "      <th>health_conditions_Other</th>\n",
       "    </tr>\n",
       "  </thead>\n",
       "  <tbody>\n",
       "    <tr>\n",
       "      <th>244319</th>\n",
       "      <td>5</td>\n",
       "      <td>2</td>\n",
       "      <td>1</td>\n",
       "      <td>2</td>\n",
       "      <td>2</td>\n",
       "      <td>4207.851239</td>\n",
       "      <td>0</td>\n",
       "      <td>0</td>\n",
       "      <td>0</td>\n",
       "      <td>1</td>\n",
       "      <td>...</td>\n",
       "      <td>0</td>\n",
       "      <td>1</td>\n",
       "      <td>0</td>\n",
       "      <td>0</td>\n",
       "      <td>1</td>\n",
       "      <td>0</td>\n",
       "      <td>0</td>\n",
       "      <td>0</td>\n",
       "      <td>0</td>\n",
       "      <td>0</td>\n",
       "    </tr>\n",
       "  </tbody>\n",
       "</table>\n",
       "<p>1 rows × 39 columns</p>\n",
       "</div>"
      ],
      "text/plain": [
       "        Available Extra Rooms in Hospital  staff_available  Age  \\\n",
       "244319                                  5                2    1   \n",
       "\n",
       "        Severity of Illness  Visitors with Patient  Admission_Deposit  pred  \\\n",
       "244319                    2                      2        4207.851239     0   \n",
       "\n",
       "        Department_TB & Chest disease  Department_anesthesia  \\\n",
       "244319                              0                      0   \n",
       "\n",
       "        Department_gynecology  ...  gender_Other  Type of Admission_Emergency  \\\n",
       "244319                      1  ...             0                            1   \n",
       "\n",
       "        Type of Admission_Trauma  Type of Admission_Urgent  \\\n",
       "244319                         0                         0   \n",
       "\n",
       "        health_conditions_Asthama  health_conditions_Diabetes  \\\n",
       "244319                          1                           0   \n",
       "\n",
       "        health_conditions_Heart disease  \\\n",
       "244319                                0   \n",
       "\n",
       "        health_conditions_High Blood Pressure  health_conditions_None  \\\n",
       "244319                                      0                       0   \n",
       "\n",
       "        health_conditions_Other  \n",
       "244319                        0  \n",
       "\n",
       "[1 rows x 39 columns]"
      ]
     },
     "execution_count": 24,
     "metadata": {},
     "output_type": "execute_result"
    }
   ],
   "source": [
    "df_ml.sample()"
   ]
  },
  {
   "cell_type": "code",
   "execution_count": 25,
   "metadata": {},
   "outputs": [],
   "source": [
    "#creamos nuestras variables y, x\n",
    "x = df_ml.drop(columns=\"pred\")\n",
    "y = df_ml[\"pred\"]"
   ]
  },
  {
   "cell_type": "code",
   "execution_count": 26,
   "metadata": {},
   "outputs": [],
   "source": [
    "#separamos nuestros datos en entrenamiento y test\n",
    "#despues de varios testeos se llego a la conclusion que en un random_state de 32 muestra su mejor performance\n",
    "from sklearn.model_selection import train_test_split\n",
    "\n",
    "x_train, x_test, y_train, y_test = train_test_split(x,y, test_size=0.25, random_state=32)\n"
   ]
  },
  {
   "attachments": {},
   "cell_type": "markdown",
   "metadata": {},
   "source": [
    "#### PIPELINE  \n",
    "Creamos nuestros pipelines compararemos la performance de los modelos y buscaremos identificar el mejor de ellos. Una vez obtenido, lo guardamos en un archivo.  \n",
    "Observacion: no vamos a utilizar svm ya que su rendimiento no es optimo en nuestro computador."
   ]
  },
  {
   "cell_type": "code",
   "execution_count": 27,
   "metadata": {},
   "outputs": [],
   "source": [
    "# Importamos las librerías necesarias\n",
    "\n",
    "from sklearn.preprocessing import StandardScaler\n",
    "from sklearn.decomposition import PCA\n",
    "from sklearn.pipeline import Pipeline\n",
    "from sklearn.linear_model import LogisticRegression\n",
    "from sklearn import tree"
   ]
  },
  {
   "cell_type": "code",
   "execution_count": 28,
   "metadata": {},
   "outputs": [],
   "source": [
    "# Creamos el primer pipeline\n",
    "\n",
    "pipe_lr = Pipeline([('scl', StandardScaler()),\n",
    "\t\t\t('pca', PCA(n_components=2)),\n",
    "\t\t\t('clf', LogisticRegression(random_state=42))])\n",
    "\n",
    "# Creamos el segundo pipeline\n",
    "\n",
    "pipe_dt = Pipeline([('scl', StandardScaler()),\n",
    "\t\t\t('pca', PCA(n_components=2)),\n",
    "\t\t\t('clf', tree.DecisionTreeClassifier(random_state=42))])"
   ]
  },
  {
   "cell_type": "code",
   "execution_count": 29,
   "metadata": {},
   "outputs": [],
   "source": [
    "# Los guardamos en una lista\n",
    "\n",
    "pipelines = [pipe_lr, pipe_dt]"
   ]
  },
  {
   "cell_type": "code",
   "execution_count": 30,
   "metadata": {},
   "outputs": [],
   "source": [
    "# Hacemos un diccionario para fines organizativos\n",
    "\n",
    "pipe_dict = {0: 'Regresión Logística', 1: 'Árbol de decisión'}"
   ]
  },
  {
   "cell_type": "code",
   "execution_count": 31,
   "metadata": {},
   "outputs": [],
   "source": [
    "# Entrenamos\n",
    "\n",
    "for pipe in pipelines:\n",
    "\tpipe.fit(x_train, y_train)"
   ]
  },
  {
   "cell_type": "code",
   "execution_count": 32,
   "metadata": {},
   "outputs": [
    {
     "name": "stdout",
     "output_type": "stream",
     "text": [
      "Regresión Logística pipeline accuracy en test: 0.622\n",
      "Árbol de decisión pipeline accuracy en test: 0.629\n"
     ]
    }
   ],
   "source": [
    "# Evaluamos\n",
    "\n",
    "for idx, val in enumerate(pipelines):\n",
    "\tprint('%s pipeline accuracy en test: %.3f' % (pipe_dict[idx], val.score(x_test, y_test)))"
   ]
  },
  {
   "cell_type": "code",
   "execution_count": 33,
   "metadata": {},
   "outputs": [
    {
     "name": "stdout",
     "output_type": "stream",
     "text": [
      "Modelo con el mejor accuracy: Árbol de decisión\n"
     ]
    }
   ],
   "source": [
    "# Identificamos el mejor modelo para el set de testeo\n",
    "\n",
    "best_acc = 0.0\n",
    "best_clf = 0\n",
    "best_pipe = ''\n",
    "for idx, val in enumerate(pipelines):\n",
    "\tif val.score(x_test, y_test) > best_acc:\n",
    "\t\tbest_acc = val.score(x_test, y_test)\n",
    "\t\tbest_pipe = val\n",
    "\t\tbest_clf = idx\n",
    "print('Modelo con el mejor accuracy: %s' % pipe_dict[best_clf])"
   ]
  },
  {
   "cell_type": "code",
   "execution_count": 34,
   "metadata": {},
   "outputs": [
    {
     "name": "stdout",
     "output_type": "stream",
     "text": [
      "Pipeline de Árbol de decisión guardado a archivo\n"
     ]
    }
   ],
   "source": [
    "# Guardamos el pipeline en un archivo\n",
    "\n",
    "import joblib #pickle es alternativa\n",
    "\n",
    "joblib.dump(best_pipe, 'Mejor_pipeline.pkl', compress=1)\n",
    "print('Pipeline de %s guardado a archivo' % pipe_dict[best_clf])"
   ]
  },
  {
   "attachments": {},
   "cell_type": "markdown",
   "metadata": {},
   "source": [
    "### Árbol de decisión  \n",
    "\n",
    "Voy a utilizar el Árbol de decisión para el modelo ya que fue la recomendacion del pipeline luego de la evaluacion y es con el que mas familiarizado estoy."
   ]
  },
  {
   "cell_type": "code",
   "execution_count": 35,
   "metadata": {},
   "outputs": [
    {
     "data": {
      "text/plain": [
       "DecisionTreeClassifier(criterion='entropy', max_depth=16, random_state=42)"
      ]
     },
     "execution_count": 35,
     "metadata": {},
     "output_type": "execute_result"
    }
   ],
   "source": [
    "#importamos y entrenamos el arbol de decicion\n",
    "from sklearn.tree import DecisionTreeClassifier\n",
    "\n",
    "#se usa una profundidad de 9 luego de provar varias y llegar a la conclusion que es la que mejor resultados arroja.\n",
    "#se usa entropy porque lanzo un mejor recall\n",
    "arbol = DecisionTreeClassifier(criterion=\"entropy\",max_depth=16, random_state=42)\n",
    "#entrenamiento\n",
    "arbol.fit(x_train,y_train)"
   ]
  },
  {
   "cell_type": "code",
   "execution_count": 36,
   "metadata": {},
   "outputs": [],
   "source": [
    "#realizamos la prediccion\n",
    "y_pred = arbol.predict(x_test)"
   ]
  },
  {
   "cell_type": "code",
   "execution_count": 37,
   "metadata": {},
   "outputs": [
    {
     "data": {
      "text/plain": [
       "array([[25295, 13250],\n",
       "       [10993, 52962]], dtype=int64)"
      ]
     },
     "execution_count": 37,
     "metadata": {},
     "output_type": "execute_result"
    }
   ],
   "source": [
    "#usamos confusion matrix para visualizar el desempeño de un algoritmo\n",
    "#podemos observar que el modelo trabaja mucho mejor encontrando los 1 verdaderos, que los 0. \n",
    "from sklearn.metrics import confusion_matrix\n",
    "\n",
    "cm= confusion_matrix(y_test,y_pred)\n",
    "cm"
   ]
  },
  {
   "cell_type": "code",
   "execution_count": 38,
   "metadata": {},
   "outputs": [
    {
     "name": "stdout",
     "output_type": "stream",
     "text": [
      "accuracy:  0.7634829268292683\n",
      "Recall:  0.8281135173168634\n",
      "F1score: 0.8137546382723732\n"
     ]
    }
   ],
   "source": [
    "#verificamos las metricas de nuestro modelo\n",
    "from sklearn import metrics\n",
    "\n",
    "print(\"accuracy: \", metrics.accuracy_score(y_test,y_pred))\n",
    "print(\"Recall: \", metrics.recall_score(y_test,y_pred))\n",
    "print(\"F1score:\", metrics.f1_score(y_test,y_pred))"
   ]
  },
  {
   "attachments": {},
   "cell_type": "markdown",
   "metadata": {},
   "source": [
    "Ahora utilizamos K-fold para realizar la validación cruzada y evaluar que tan bien funciona el modelo que desarrollamos:"
   ]
  },
  {
   "cell_type": "code",
   "execution_count": 39,
   "metadata": {},
   "outputs": [],
   "source": [
    "# Validación cruzada k fold\n",
    "from sklearn.model_selection import KFold\n",
    "kfold_validacion = KFold(10) # Acá indicamos cuantos fold queremos. En nuestro caso elegimos 10."
   ]
  },
  {
   "cell_type": "code",
   "execution_count": 40,
   "metadata": {},
   "outputs": [
    {
     "name": "stdout",
     "output_type": "stream",
     "text": [
      "[0.75787805 0.75539024 0.75739024 0.75590244 0.75934146 0.76007317\n",
      " 0.75863415 0.759      0.7617561  0.75421951]\n"
     ]
    },
    {
     "data": {
      "text/plain": [
       "0.7579585365853658"
      ]
     },
     "execution_count": 40,
     "metadata": {},
     "output_type": "execute_result"
    }
   ],
   "source": [
    "from sklearn.model_selection import cross_val_score\n",
    "\n",
    "resultados = cross_val_score(arbol, x, y, cv = kfold_validacion)\n",
    "print(resultados)\n",
    "resultados.mean() # para ver el promedio de los resultados "
   ]
  },
  {
   "attachments": {},
   "cell_type": "markdown",
   "metadata": {},
   "source": [
    "#### Conclusion:  \n",
    "- El modelo arroja un accuracy de aproximadamente 70% con un recall del 88% y un F1 score del 78% encontrando en su mayoria los 1 y flaqueando en encontrar los 0.\n",
    "- Actualizacion: dejando la columna \"Admission_Deposit\" y cambiando la columna \"Age\" y 'Severity of Illness' con Labelencoder el acc aumento un 6% aproximadamente, bajando un 6% el recall y aumentando el F1 score en un 3%, pero quedando mas balanceado.  \n",
    "Dejando como resultado : accuracy:76%, Recall: 82.81% y F1score: 81.37%"
   ]
  },
  {
   "attachments": {},
   "cell_type": "markdown",
   "metadata": {},
   "source": [
    "Una vez terminado la primera etapa pasamos a la siguiente donde vamos a usar el csv de \"test\" para predecir y crear la culumna \"pred\". Antes de realizar esto tenemos que normalizar los datos borrando la mismas columnas y poniendolo en el mismo formato con el que trabajamos el arbol"
   ]
  },
  {
   "cell_type": "code",
   "execution_count": 41,
   "metadata": {},
   "outputs": [],
   "source": [
    "df_test = pd.read_csv(\"dataset\\hospitalizaciones_test.csv\")"
   ]
  },
  {
   "cell_type": "code",
   "execution_count": 42,
   "metadata": {},
   "outputs": [],
   "source": [
    "#dropeamos las columnas que no usaremos\n",
    "df_test = df_test.drop([\"patientid\",\"Insurance\"], axis=1)"
   ]
  },
  {
   "cell_type": "code",
   "execution_count": 43,
   "metadata": {},
   "outputs": [],
   "source": [
    "from sklearn import preprocessing\n",
    "le = preprocessing.LabelEncoder()\n",
    "df_test['Age'] = le.fit_transform(df_test['Age'])\n",
    "df_test['Severity of Illness'] = le.fit_transform(df_test['Severity of Illness'])"
   ]
  },
  {
   "cell_type": "code",
   "execution_count": 44,
   "metadata": {},
   "outputs": [],
   "source": [
    "#normalizamos los datos con dummis\n",
    "df_test = pd.get_dummies(df_test)"
   ]
  },
  {
   "cell_type": "code",
   "execution_count": 45,
   "metadata": {},
   "outputs": [],
   "source": [
    "#realizamos la prediccion\n",
    "y_pred = arbol.predict(df_test)"
   ]
  },
  {
   "cell_type": "code",
   "execution_count": 46,
   "metadata": {},
   "outputs": [],
   "source": [
    "#transformamos el array en df y le cambiamos el nombre a la columna\n",
    "pred = pd.DataFrame(y_pred)\n",
    "pred = pred.rename(columns={\"0\":\"pred\"})"
   ]
  },
  {
   "cell_type": "code",
   "execution_count": 49,
   "metadata": {},
   "outputs": [],
   "source": [
    "#lo hacemos al df un csv y le sacamos el index\n",
    "pred.to_csv(\"MaxiDS\", index=False)"
   ]
  }
 ],
 "metadata": {
  "kernelspec": {
   "display_name": "base",
   "language": "python",
   "name": "python3"
  },
  "language_info": {
   "codemirror_mode": {
    "name": "ipython",
    "version": 3
   },
   "file_extension": ".py",
   "mimetype": "text/x-python",
   "name": "python",
   "nbconvert_exporter": "python",
   "pygments_lexer": "ipython3",
   "version": "3.9.13"
  },
  "orig_nbformat": 4,
  "vscode": {
   "interpreter": {
    "hash": "5cb6843b2bdfa04223ad47904ee87b5cec631984c46fdd752a44964852f2ec12"
   }
  }
 },
 "nbformat": 4,
 "nbformat_minor": 2
}
